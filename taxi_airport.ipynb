{
 "cells": [
  {
   "cell_type": "markdown",
   "metadata": {},
   "source": [
    "## Table of Contents\n",
    "***\n",
    "\n",
    "### [Management Summary](#summary)\n",
    "- [Analytical Approach](#approach)\n",
    "- [Key Insights](#key)\n",
    "\n",
    "### [Problem Statement](#problem)\n",
    " - [Libraries](#library)\n",
    " - [Dataset](#data)\n",
    " - [Exploratory Data Analysis](#explore)\n",
    " - [Data Cleaning](#cleaning)\n",
    " - [Feature Engineering](#feature)\n",
    "\n",
    "### [Univariate Analysis](#univariate)\n",
    " - [Overall Overview](#overview)\n",
    " - [Airort to Airport](#airport)\n",
    " - [Distance](#distance)\n",
    " - [Vendor](#vendor)\n",
    " - [Passengers](#passenger)\n",
    " - [Rate Code](#rate)   \n",
    " - [Store and forward flag](#flag)\n",
    " - [Speed](#speed)\n",
    " - [Trip Duration](#duration)\n",
    " - [Trips per Hour](#hour_trip)\n",
    " - [Trips per Time of Day](#timeday_trip)     \n",
    " - [Trips per Day](#day_trip)\n",
    " - [Trips per Month](#month_trip)\n",
    " - [Trips per Yeaar](#year_trip)\n",
    " - [Payment Method](#payment)\n",
    " - [Total Amount](#amount)\n",
    "\n",
    "### [Correlation Analysis](#corr)\n",
    " - [Heatmap](#heatmap)\n"
   ]
  },
  {
   "cell_type": "markdown",
   "metadata": {},
   "source": [
    "<a id=summary></a>\n",
    "# Management Summary"
   ]
  },
  {
   "cell_type": "markdown",
   "metadata": {},
   "source": [
    "<a id=approach></a>\n",
    "## Analytical Approach"
   ]
  },
  {
   "cell_type": "markdown",
   "metadata": {},
   "source": [
    "To obtain valuable insights, I decided to categorize the dataset into two distinct groups:\n",
    "\n",
    "1- Airport Rides: This category includes rides that are specifically related to airports. These rides typically involve transportation to or from airports, such as trips to catch flights or journeys from airports to the city.\n",
    "\n",
    "2- City Rides: This category encompasses rides that occur within the city limits. These rides primarily involve transportation within the urban areas, such as commuting to work, running errands, or exploring the city's attractions.\n",
    "\n",
    "By dividing the dataset into these two categories, I aimed to analyze and compare various aspects, such as trip duration, trip distance, and other relevant features, in order to gain meaningful insights specific to each category.\n"
   ]
  },
  {
   "cell_type": "markdown",
   "metadata": {},
   "source": [
    "<a id=key></a>\n",
    "## Key Insights"
   ]
  },
  {
   "cell_type": "markdown",
   "metadata": {},
   "source": [
    "There is a higher usage of taxis when people travel to New York City, specifically when the pick-up location is an airport (not considering the drop-off location).\n",
    "\n",
    "A significant number of taxi rides to airports have a drop-off location in LaGuardia Airport (zone 138). Similarly, a considerable portion of taxi rides from airports have a pick-up location in JFK Airport (zone 132). \n",
    "\n",
    "There have been a total of 174 rides observed between the two airports in the dataset.This indicates instances where passengers have traveled directly between the airports, highlighting the need for transportation services catering to inter-airport travel.\n",
    "\n",
    "A significant majority of the rides in the dataset are completed within a range of 15-30 km.\n",
    "\n",
    "We observe that the number of trips taken by vendor 2 (VeriFone Inc) is more than three times that of vendor 1 (Creative Mobile Technologies, LLC).\n",
    "\n",
    "The highest number of rides recorded were those with a single passenger.\n",
    "\n",
    "Less than 1% of the total trips were stored before being forwarded.\n",
    "\n",
    "The majority of trips in the dataset were conducted at a speed range of 30-40 km/h.\n",
    "\n",
    "Regarding short trip durations, it is possible that passengers may have changed their minds and canceled the ride after a certain period of time.\n",
    "\n",
    "The majority of trips took approximately  24 to 36 minutes, to complete.\n",
    "\n",
    "The busiest hours for picking up passengers from airports are between 3 PM and 10 PM. However, there is a contrasting pattern observed when the airport is the destination.\n",
    "\n",
    "Evenings experience the highest demand for airport pickups, while mornings and afternoons observe higher demand for airport drop-offs.\n",
    "\n",
    "Monday and Sunday exhibit the highest levels of activity for airport pickups, while Friday appears to be the busiest day for airport drop-offs. \n",
    "\n",
    "The usage of taxis experiences an increase between May and August. This finding aligns with expectations, as the summer months often witness a high travel demand, with people visiting New York City for vacations and leisure activities. \n",
    "\n",
    "The COVID-19 pandemic had a substantial impact on the total volume of airport trips observed in both 2020 and 2021, leading to a significant decrease.\n",
    "\n",
    "Passengers predominantly used credit card (payment mode 1) for payments more than any other payment mode. \n",
    "\n",
    "There is an increased usage of taxis when the total fare amount falls within the range of approximately 40 to 50 $."
   ]
  },
  {
   "cell_type": "markdown",
   "metadata": {},
   "source": [
    "<a id=problem></a>\n",
    "# Problem Statement"
   ]
  },
  {
   "cell_type": "markdown",
   "metadata": {},
   "source": [
    "<a id=library></a>\n",
    "## Import libraries"
   ]
  },
  {
   "cell_type": "code",
   "execution_count": 1,
   "metadata": {},
   "outputs": [],
   "source": [
    "import matplotlib\n",
    "import matplotlib.pyplot as plt\n",
    "import numpy as np\n",
    "import pandas as pd\n",
    "import seaborn as sns\n",
    "import datetime\n",
    "\n",
    "%matplotlib inline\n",
    "matplotlib.style.use('fivethirtyeight')\n"
   ]
  },
  {
   "cell_type": "markdown",
   "metadata": {},
   "source": [
    "<a id=data></a>\n",
    "## Import Dataset"
   ]
  },
  {
   "cell_type": "code",
   "execution_count": 2,
   "metadata": {},
   "outputs": [],
   "source": [
    "#import the data from a csv file.\n",
    "\n",
    "df = pd.read_csv('Yellow_Taxi_Assignment.csv')"
   ]
  },
  {
   "cell_type": "markdown",
   "metadata": {},
   "source": [
    "<a id=explore></a>\n",
    "## Exploratory Data Analysis"
   ]
  },
  {
   "cell_type": "markdown",
   "metadata": {},
   "source": [
    "We will explore the data and modify dataset as per the our requirment for the further analysis of the problem."
   ]
  },
  {
   "cell_type": "code",
   "execution_count": 3,
   "metadata": {},
   "outputs": [
    {
     "data": {
      "text/html": [
       "<div>\n",
       "<style scoped>\n",
       "    .dataframe tbody tr th:only-of-type {\n",
       "        vertical-align: middle;\n",
       "    }\n",
       "\n",
       "    .dataframe tbody tr th {\n",
       "        vertical-align: top;\n",
       "    }\n",
       "\n",
       "    .dataframe thead th {\n",
       "        text-align: right;\n",
       "    }\n",
       "</style>\n",
       "<table border=\"1\" class=\"dataframe\">\n",
       "  <thead>\n",
       "    <tr style=\"text-align: right;\">\n",
       "      <th></th>\n",
       "      <th>VendorID</th>\n",
       "      <th>tpep_pickup_datetime</th>\n",
       "      <th>tpep_dropoff_datetime</th>\n",
       "      <th>passenger_count</th>\n",
       "      <th>trip_distance</th>\n",
       "      <th>RatecodeID</th>\n",
       "      <th>store_and_fwd_flag</th>\n",
       "      <th>PULocationID</th>\n",
       "      <th>DOLocationID</th>\n",
       "      <th>payment_type</th>\n",
       "      <th>fare_amount</th>\n",
       "      <th>extra</th>\n",
       "      <th>mta_tax</th>\n",
       "      <th>tip_amount</th>\n",
       "      <th>tolls_amount</th>\n",
       "      <th>improvement_surcharge</th>\n",
       "      <th>total_amount</th>\n",
       "      <th>congestion_surcharge</th>\n",
       "      <th>airport_fee</th>\n",
       "    </tr>\n",
       "  </thead>\n",
       "  <tbody>\n",
       "    <tr>\n",
       "      <th>0</th>\n",
       "      <td>2</td>\n",
       "      <td>2018-01-01 12:02:01</td>\n",
       "      <td>2018-01-01 12:04:05</td>\n",
       "      <td>1.0</td>\n",
       "      <td>0.53</td>\n",
       "      <td>1.0</td>\n",
       "      <td>N</td>\n",
       "      <td>142</td>\n",
       "      <td>163</td>\n",
       "      <td>1</td>\n",
       "      <td>3.5</td>\n",
       "      <td>0.0</td>\n",
       "      <td>0.5</td>\n",
       "      <td>1.29</td>\n",
       "      <td>0.0</td>\n",
       "      <td>0.3</td>\n",
       "      <td>5.59</td>\n",
       "      <td>NaN</td>\n",
       "      <td>NaN</td>\n",
       "    </tr>\n",
       "    <tr>\n",
       "      <th>1</th>\n",
       "      <td>2</td>\n",
       "      <td>2018-01-01 12:26:48</td>\n",
       "      <td>2018-01-01 12:31:29</td>\n",
       "      <td>1.0</td>\n",
       "      <td>1.05</td>\n",
       "      <td>1.0</td>\n",
       "      <td>N</td>\n",
       "      <td>140</td>\n",
       "      <td>236</td>\n",
       "      <td>1</td>\n",
       "      <td>6.0</td>\n",
       "      <td>0.0</td>\n",
       "      <td>0.5</td>\n",
       "      <td>1.02</td>\n",
       "      <td>0.0</td>\n",
       "      <td>0.3</td>\n",
       "      <td>7.82</td>\n",
       "      <td>NaN</td>\n",
       "      <td>NaN</td>\n",
       "    </tr>\n",
       "    <tr>\n",
       "      <th>2</th>\n",
       "      <td>2</td>\n",
       "      <td>2018-01-01 01:28:34</td>\n",
       "      <td>2018-01-01 01:39:38</td>\n",
       "      <td>4.0</td>\n",
       "      <td>1.83</td>\n",
       "      <td>1.0</td>\n",
       "      <td>N</td>\n",
       "      <td>211</td>\n",
       "      <td>158</td>\n",
       "      <td>1</td>\n",
       "      <td>9.5</td>\n",
       "      <td>0.5</td>\n",
       "      <td>0.5</td>\n",
       "      <td>1.62</td>\n",
       "      <td>0.0</td>\n",
       "      <td>0.3</td>\n",
       "      <td>12.42</td>\n",
       "      <td>NaN</td>\n",
       "      <td>NaN</td>\n",
       "    </tr>\n",
       "    <tr>\n",
       "      <th>3</th>\n",
       "      <td>1</td>\n",
       "      <td>2018-01-01 08:51:59</td>\n",
       "      <td>2018-01-01 09:01:45</td>\n",
       "      <td>1.0</td>\n",
       "      <td>2.30</td>\n",
       "      <td>1.0</td>\n",
       "      <td>N</td>\n",
       "      <td>249</td>\n",
       "      <td>4</td>\n",
       "      <td>2</td>\n",
       "      <td>10.0</td>\n",
       "      <td>0.0</td>\n",
       "      <td>0.5</td>\n",
       "      <td>0.00</td>\n",
       "      <td>0.0</td>\n",
       "      <td>0.3</td>\n",
       "      <td>10.80</td>\n",
       "      <td>NaN</td>\n",
       "      <td>NaN</td>\n",
       "    </tr>\n",
       "    <tr>\n",
       "      <th>4</th>\n",
       "      <td>2</td>\n",
       "      <td>2018-01-01 01:00:19</td>\n",
       "      <td>2018-01-01 01:14:16</td>\n",
       "      <td>1.0</td>\n",
       "      <td>3.06</td>\n",
       "      <td>1.0</td>\n",
       "      <td>N</td>\n",
       "      <td>186</td>\n",
       "      <td>142</td>\n",
       "      <td>1</td>\n",
       "      <td>12.5</td>\n",
       "      <td>0.5</td>\n",
       "      <td>0.5</td>\n",
       "      <td>1.00</td>\n",
       "      <td>0.0</td>\n",
       "      <td>0.3</td>\n",
       "      <td>14.80</td>\n",
       "      <td>NaN</td>\n",
       "      <td>NaN</td>\n",
       "    </tr>\n",
       "  </tbody>\n",
       "</table>\n",
       "</div>"
      ],
      "text/plain": [
       "   VendorID tpep_pickup_datetime tpep_dropoff_datetime  passenger_count  \\\n",
       "0         2  2018-01-01 12:02:01   2018-01-01 12:04:05              1.0   \n",
       "1         2  2018-01-01 12:26:48   2018-01-01 12:31:29              1.0   \n",
       "2         2  2018-01-01 01:28:34   2018-01-01 01:39:38              4.0   \n",
       "3         1  2018-01-01 08:51:59   2018-01-01 09:01:45              1.0   \n",
       "4         2  2018-01-01 01:00:19   2018-01-01 01:14:16              1.0   \n",
       "\n",
       "   trip_distance  RatecodeID store_and_fwd_flag  PULocationID  DOLocationID  \\\n",
       "0           0.53         1.0                  N           142           163   \n",
       "1           1.05         1.0                  N           140           236   \n",
       "2           1.83         1.0                  N           211           158   \n",
       "3           2.30         1.0                  N           249             4   \n",
       "4           3.06         1.0                  N           186           142   \n",
       "\n",
       "   payment_type  fare_amount  extra  mta_tax  tip_amount  tolls_amount  \\\n",
       "0             1          3.5    0.0      0.5        1.29           0.0   \n",
       "1             1          6.0    0.0      0.5        1.02           0.0   \n",
       "2             1          9.5    0.5      0.5        1.62           0.0   \n",
       "3             2         10.0    0.0      0.5        0.00           0.0   \n",
       "4             1         12.5    0.5      0.5        1.00           0.0   \n",
       "\n",
       "   improvement_surcharge  total_amount  congestion_surcharge  airport_fee  \n",
       "0                    0.3          5.59                   NaN          NaN  \n",
       "1                    0.3          7.82                   NaN          NaN  \n",
       "2                    0.3         12.42                   NaN          NaN  \n",
       "3                    0.3         10.80                   NaN          NaN  \n",
       "4                    0.3         14.80                   NaN          NaN  "
      ]
     },
     "execution_count": 3,
     "metadata": {},
     "output_type": "execute_result"
    }
   ],
   "source": [
    "df.head()"
   ]
  },
  {
   "cell_type": "code",
   "execution_count": 4,
   "metadata": {},
   "outputs": [
    {
     "data": {
      "text/plain": [
       "(304978, 19)"
      ]
     },
     "execution_count": 4,
     "metadata": {},
     "output_type": "execute_result"
    }
   ],
   "source": [
    "# Lets see shape of dataset\n",
    "\n",
    "df.shape"
   ]
  },
  {
   "cell_type": "code",
   "execution_count": 5,
   "metadata": {},
   "outputs": [
    {
     "name": "stdout",
     "output_type": "stream",
     "text": [
      "There are/is 0 duplicate row/s.\n"
     ]
    }
   ],
   "source": [
    "# duplicates\n",
    "\n",
    "td =sum(df.duplicated())\n",
    "print( f\"There are/is {td} duplicate row/s.\")"
   ]
  },
  {
   "cell_type": "code",
   "execution_count": 6,
   "metadata": {},
   "outputs": [],
   "source": [
    "# Lets add trip_id to dataset\n",
    "\n",
    "df['id'] = range(1, len(df) + 1)"
   ]
  },
  {
   "cell_type": "markdown",
   "metadata": {},
   "source": [
    "Lets divide dataset into 2 categories: taxi_airport and taxi_city.\n",
    " it help us to obtain meaningful insights, as we know the duration and distance of trip to airport is longer than urban trips. in this code I go deep dive into taxi_airport and Icreate another code for investigating in taxi_city ."
   ]
  },
  {
   "cell_type": "markdown",
   "metadata": {},
   "source": [
    "New York is served by several airports,based on the research I have done the zone number for airport is:\\\n",
    "zone 132 = John F. Kennedy International Airport (JFK): Located in the borough of Queens, JFK is the primary international airport serving New York City.\\\n",
    "zone 138 = LaGuardia Airport (LGA): Also situated in Queens, LaGuardia primarily handles domestic flights and some international flights.\\\n",
    "zone 1 = Newark Liberty International Airport (EWR): Although technically located in Newark, New Jersey, Newark Airport serves the New York metropolitan area and is a major gateway to the region."
   ]
  },
  {
   "cell_type": "code",
   "execution_count": 7,
   "metadata": {},
   "outputs": [],
   "source": [
    "# Lets define dataframe for trips fram the airports and to the airports\n",
    "\n",
    "to_airport = df.loc[df['DOLocationID'].isin([1,132,138])]\n",
    "from_airport = df.loc[df['PULocationID'].isin([1,132,138])]"
   ]
  },
  {
   "cell_type": "code",
   "execution_count": 8,
   "metadata": {
    "scrolled": true
   },
   "outputs": [
    {
     "data": {
      "text/plain": [
       "(21869, 19)"
      ]
     },
     "execution_count": 8,
     "metadata": {},
     "output_type": "execute_result"
    }
   ],
   "source": [
    "# Lets define dataframe taxi_airport & taxi_city\n",
    "\n",
    "taxi_airport = pd.concat([to_airport, from_airport])\n",
    "taxi_airport.drop_duplicates(inplace=True)\n",
    "taxi_airport.set_index('id', inplace=True)\n",
    "df.set_index('id', inplace=True)\n",
    "taxi_city = df.loc[df.index.difference(taxi_airport.index)]\n",
    "\n",
    "taxi_airport.shape"
   ]
  },
  {
   "cell_type": "code",
   "execution_count": 9,
   "metadata": {},
   "outputs": [],
   "source": [
    "# Rename taxi_airport to df for rest of analysis\n",
    "\n",
    "df = taxi_airport"
   ]
  },
  {
   "cell_type": "code",
   "execution_count": 10,
   "metadata": {},
   "outputs": [
    {
     "data": {
      "text/plain": [
       "(283109, 19)"
      ]
     },
     "execution_count": 10,
     "metadata": {},
     "output_type": "execute_result"
    }
   ],
   "source": [
    "taxi_city.shape"
   ]
  },
  {
   "cell_type": "markdown",
   "metadata": {},
   "source": [
    "<a id=cleaning></a>\n",
    "## Data Cleaning "
   ]
  },
  {
   "cell_type": "code",
   "execution_count": 11,
   "metadata": {},
   "outputs": [
    {
     "data": {
      "text/plain": [
       "Index(['vendorid', 'tpep_pickup_datetime', 'tpep_dropoff_datetime',\n",
       "       'passenger_count', 'trip_distance', 'ratecodeid', 'store_and_fwd_flag',\n",
       "       'pulocationid', 'dolocationid', 'payment_type', 'fare_amount', 'extra',\n",
       "       'mta_tax', 'tip_amount', 'tolls_amount', 'improvement_surcharge',\n",
       "       'total_amount', 'congestion_surcharge', 'airport_fee'],\n",
       "      dtype='object')"
      ]
     },
     "execution_count": 11,
     "metadata": {},
     "output_type": "execute_result"
    }
   ],
   "source": [
    "# Lets convert column names to lowercase\n",
    "\n",
    "df.columns = df.columns.str.lower() \n",
    "df.columns"
   ]
  },
  {
   "cell_type": "code",
   "execution_count": 12,
   "metadata": {},
   "outputs": [
    {
     "data": {
      "text/plain": [
       "Index(['vendor_id', 'tpep_pickup_datetime', 'tpep_dropoff_datetime',\n",
       "       'passenger_count', 'trip_distance', 'rate_code_id',\n",
       "       'store_and_fwd_flag', 'pu_location_id', 'do_location_id',\n",
       "       'payment_type', 'fare_amount', 'extra', 'mta_tax', 'tip_amount',\n",
       "       'tolls_amount', 'improvement_surcharge', 'total_amount',\n",
       "       'congestion_surcharge', 'airport_fee'],\n",
       "      dtype='object')"
      ]
     },
     "execution_count": 12,
     "metadata": {},
     "output_type": "execute_result"
    }
   ],
   "source": [
    "# Lets change column name's format\n",
    "\n",
    "df.rename(columns={'vendorid':'vendor_id','ratecodeid':'rate_code_id','pulocationid':'pu_location_id','dolocationid':'do_location_id'}, inplace=True)\n",
    "# \n",
    "df.columns"
   ]
  },
  {
   "cell_type": "code",
   "execution_count": 13,
   "metadata": {},
   "outputs": [
    {
     "name": "stdout",
     "output_type": "stream",
     "text": [
      "Missing values in vendor_id: 0\n",
      "Missing values in tpep_pickup_datetime: 0\n",
      "Missing values in tpep_dropoff_datetime: 0\n",
      "Missing values in passenger_count: 325\n",
      "Missing values in trip_distance: 0\n",
      "Missing values in rate_code_id: 325\n",
      "Missing values in store_and_fwd_flag: 325\n",
      "Missing values in pu_location_id: 0\n",
      "Missing values in do_location_id: 0\n",
      "Missing values in payment_type: 0\n",
      "Missing values in fare_amount: 0\n",
      "Missing values in extra: 0\n",
      "Missing values in mta_tax: 0\n",
      "Missing values in tip_amount: 0\n",
      "Missing values in tolls_amount: 0\n",
      "Missing values in improvement_surcharge: 0\n",
      "Missing values in total_amount: 0\n",
      "Missing values in congestion_surcharge: 4947\n",
      "Missing values in airport_fee: 12349\n"
     ]
    }
   ],
   "source": [
    "# Checking for missing values\n",
    "\n",
    "for col in df.columns:\n",
    "    missing = df[col].isna().sum()\n",
    "    print(f\"Missing values in {col}: {missing}\")"
   ]
  },
  {
   "cell_type": "markdown",
   "metadata": {},
   "source": [
    "There are only 325 missing values in passenger_count, rate_code_id and store_and_fwd_flagso I will drop them."
   ]
  },
  {
   "cell_type": "code",
   "execution_count": 14,
   "metadata": {},
   "outputs": [],
   "source": [
    "# Lets drop missing value from passenger_count, rate_code_id, store_and_fwd_flag\n",
    "\n",
    "df['passenger_count'].dropna(inplace=True)\n",
    "df['rate_code_id'].dropna(inplace=True)\n",
    "df['store_and_fwd_flag'].dropna(inplace=True)"
   ]
  },
  {
   "cell_type": "code",
   "execution_count": 15,
   "metadata": {},
   "outputs": [
    {
     "name": "stdout",
     "output_type": "stream",
     "text": [
      "Missing values in vendor_id: 0\n",
      "Missing values in tpep_pickup_datetime: 0\n",
      "Missing values in tpep_dropoff_datetime: 0\n",
      "Missing values in passenger_count: 0\n",
      "Missing values in trip_distance: 0\n",
      "Missing values in rate_code_id: 0\n",
      "Missing values in store_and_fwd_flag: 0\n",
      "Missing values in pu_location_id: 0\n",
      "Missing values in do_location_id: 0\n",
      "Missing values in payment_type: 0\n",
      "Missing values in fare_amount: 0\n",
      "Missing values in extra: 0\n",
      "Missing values in mta_tax: 0\n",
      "Missing values in tip_amount: 0\n",
      "Missing values in tolls_amount: 0\n",
      "Missing values in improvement_surcharge: 0\n",
      "Missing values in total_amount: 0\n",
      "Missing values in congestion_surcharge: 4947\n",
      "Missing values in airport_fee: 12349\n"
     ]
    }
   ],
   "source": [
    "for col in df.columns:\n",
    "    missing = df[col].isna().sum()\n",
    "    print(f\"Missing values in {col}: {missing}\")"
   ]
  },
  {
   "cell_type": "code",
   "execution_count": 16,
   "metadata": {},
   "outputs": [
    {
     "data": {
      "text/html": [
       "<div>\n",
       "<style scoped>\n",
       "    .dataframe tbody tr th:only-of-type {\n",
       "        vertical-align: middle;\n",
       "    }\n",
       "\n",
       "    .dataframe tbody tr th {\n",
       "        vertical-align: top;\n",
       "    }\n",
       "\n",
       "    .dataframe thead th {\n",
       "        text-align: right;\n",
       "    }\n",
       "</style>\n",
       "<table border=\"1\" class=\"dataframe\">\n",
       "  <thead>\n",
       "    <tr style=\"text-align: right;\">\n",
       "      <th></th>\n",
       "      <th>vendor_id</th>\n",
       "      <th>passenger_count</th>\n",
       "      <th>trip_distance</th>\n",
       "      <th>rate_code_id</th>\n",
       "      <th>pu_location_id</th>\n",
       "      <th>do_location_id</th>\n",
       "      <th>payment_type</th>\n",
       "      <th>fare_amount</th>\n",
       "      <th>extra</th>\n",
       "      <th>mta_tax</th>\n",
       "      <th>tip_amount</th>\n",
       "      <th>tolls_amount</th>\n",
       "      <th>improvement_surcharge</th>\n",
       "      <th>total_amount</th>\n",
       "      <th>congestion_surcharge</th>\n",
       "      <th>airport_fee</th>\n",
       "    </tr>\n",
       "  </thead>\n",
       "  <tbody>\n",
       "    <tr>\n",
       "      <th>count</th>\n",
       "      <td>21869.000000</td>\n",
       "      <td>21544.000000</td>\n",
       "      <td>21869.000000</td>\n",
       "      <td>21544.000000</td>\n",
       "      <td>21869.000000</td>\n",
       "      <td>21869.000000</td>\n",
       "      <td>21869.000000</td>\n",
       "      <td>21869.000000</td>\n",
       "      <td>21869.000000</td>\n",
       "      <td>21869.000000</td>\n",
       "      <td>21869.000000</td>\n",
       "      <td>21869.000000</td>\n",
       "      <td>21869.000000</td>\n",
       "      <td>21869.000000</td>\n",
       "      <td>16922.000000</td>\n",
       "      <td>9520.000000</td>\n",
       "    </tr>\n",
       "    <tr>\n",
       "      <th>mean</th>\n",
       "      <td>1.699575</td>\n",
       "      <td>1.542796</td>\n",
       "      <td>21.209486</td>\n",
       "      <td>1.463424</td>\n",
       "      <td>141.750332</td>\n",
       "      <td>142.208743</td>\n",
       "      <td>1.271800</td>\n",
       "      <td>40.724827</td>\n",
       "      <td>0.918597</td>\n",
       "      <td>0.476857</td>\n",
       "      <td>6.534123</td>\n",
       "      <td>3.873322</td>\n",
       "      <td>0.318684</td>\n",
       "      <td>53.932569</td>\n",
       "      <td>1.373966</td>\n",
       "      <td>0.910583</td>\n",
       "    </tr>\n",
       "    <tr>\n",
       "      <th>std</th>\n",
       "      <td>0.472018</td>\n",
       "      <td>1.120684</td>\n",
       "      <td>1198.500992</td>\n",
       "      <td>1.010119</td>\n",
       "      <td>35.373010</td>\n",
       "      <td>69.665029</td>\n",
       "      <td>0.524784</td>\n",
       "      <td>17.528841</td>\n",
       "      <td>1.570020</td>\n",
       "      <td>0.115717</td>\n",
       "      <td>5.611627</td>\n",
       "      <td>3.805780</td>\n",
       "      <td>0.131496</td>\n",
       "      <td>22.720281</td>\n",
       "      <td>1.251292</td>\n",
       "      <td>0.571114</td>\n",
       "    </tr>\n",
       "    <tr>\n",
       "      <th>min</th>\n",
       "      <td>1.000000</td>\n",
       "      <td>0.000000</td>\n",
       "      <td>0.000000</td>\n",
       "      <td>1.000000</td>\n",
       "      <td>1.000000</td>\n",
       "      <td>1.000000</td>\n",
       "      <td>0.000000</td>\n",
       "      <td>-104.000000</td>\n",
       "      <td>-6.000000</td>\n",
       "      <td>-0.500000</td>\n",
       "      <td>-20.000000</td>\n",
       "      <td>-13.750000</td>\n",
       "      <td>-1.000000</td>\n",
       "      <td>-103.650000</td>\n",
       "      <td>-2.500000</td>\n",
       "      <td>-1.250000</td>\n",
       "    </tr>\n",
       "    <tr>\n",
       "      <th>25%</th>\n",
       "      <td>1.000000</td>\n",
       "      <td>1.000000</td>\n",
       "      <td>9.200000</td>\n",
       "      <td>1.000000</td>\n",
       "      <td>132.000000</td>\n",
       "      <td>100.000000</td>\n",
       "      <td>1.000000</td>\n",
       "      <td>29.500000</td>\n",
       "      <td>0.000000</td>\n",
       "      <td>0.500000</td>\n",
       "      <td>0.000000</td>\n",
       "      <td>0.000000</td>\n",
       "      <td>0.300000</td>\n",
       "      <td>40.600000</td>\n",
       "      <td>0.000000</td>\n",
       "      <td>0.000000</td>\n",
       "    </tr>\n",
       "    <tr>\n",
       "      <th>50%</th>\n",
       "      <td>2.000000</td>\n",
       "      <td>1.000000</td>\n",
       "      <td>12.110000</td>\n",
       "      <td>1.000000</td>\n",
       "      <td>132.000000</td>\n",
       "      <td>138.000000</td>\n",
       "      <td>1.000000</td>\n",
       "      <td>40.500000</td>\n",
       "      <td>0.000000</td>\n",
       "      <td>0.500000</td>\n",
       "      <td>7.000000</td>\n",
       "      <td>5.760000</td>\n",
       "      <td>0.300000</td>\n",
       "      <td>53.460000</td>\n",
       "      <td>2.500000</td>\n",
       "      <td>1.250000</td>\n",
       "    </tr>\n",
       "    <tr>\n",
       "      <th>75%</th>\n",
       "      <td>2.000000</td>\n",
       "      <td>2.000000</td>\n",
       "      <td>17.800000</td>\n",
       "      <td>2.000000</td>\n",
       "      <td>138.000000</td>\n",
       "      <td>189.000000</td>\n",
       "      <td>2.000000</td>\n",
       "      <td>52.000000</td>\n",
       "      <td>1.000000</td>\n",
       "      <td>0.500000</td>\n",
       "      <td>10.560000</td>\n",
       "      <td>6.550000</td>\n",
       "      <td>0.300000</td>\n",
       "      <td>68.560000</td>\n",
       "      <td>2.500000</td>\n",
       "      <td>1.250000</td>\n",
       "    </tr>\n",
       "    <tr>\n",
       "      <th>max</th>\n",
       "      <td>5.000000</td>\n",
       "      <td>6.000000</td>\n",
       "      <td>177247.400000</td>\n",
       "      <td>99.000000</td>\n",
       "      <td>265.000000</td>\n",
       "      <td>265.000000</td>\n",
       "      <td>4.000000</td>\n",
       "      <td>275.550000</td>\n",
       "      <td>18.500000</td>\n",
       "      <td>2.540000</td>\n",
       "      <td>95.000000</td>\n",
       "      <td>63.540000</td>\n",
       "      <td>1.000000</td>\n",
       "      <td>310.700000</td>\n",
       "      <td>2.750000</td>\n",
       "      <td>1.250000</td>\n",
       "    </tr>\n",
       "  </tbody>\n",
       "</table>\n",
       "</div>"
      ],
      "text/plain": [
       "          vendor_id  passenger_count  trip_distance  rate_code_id  \\\n",
       "count  21869.000000     21544.000000   21869.000000  21544.000000   \n",
       "mean       1.699575         1.542796      21.209486      1.463424   \n",
       "std        0.472018         1.120684    1198.500992      1.010119   \n",
       "min        1.000000         0.000000       0.000000      1.000000   \n",
       "25%        1.000000         1.000000       9.200000      1.000000   \n",
       "50%        2.000000         1.000000      12.110000      1.000000   \n",
       "75%        2.000000         2.000000      17.800000      2.000000   \n",
       "max        5.000000         6.000000  177247.400000     99.000000   \n",
       "\n",
       "       pu_location_id  do_location_id  payment_type   fare_amount  \\\n",
       "count    21869.000000    21869.000000  21869.000000  21869.000000   \n",
       "mean       141.750332      142.208743      1.271800     40.724827   \n",
       "std         35.373010       69.665029      0.524784     17.528841   \n",
       "min          1.000000        1.000000      0.000000   -104.000000   \n",
       "25%        132.000000      100.000000      1.000000     29.500000   \n",
       "50%        132.000000      138.000000      1.000000     40.500000   \n",
       "75%        138.000000      189.000000      2.000000     52.000000   \n",
       "max        265.000000      265.000000      4.000000    275.550000   \n",
       "\n",
       "              extra       mta_tax    tip_amount  tolls_amount  \\\n",
       "count  21869.000000  21869.000000  21869.000000  21869.000000   \n",
       "mean       0.918597      0.476857      6.534123      3.873322   \n",
       "std        1.570020      0.115717      5.611627      3.805780   \n",
       "min       -6.000000     -0.500000    -20.000000    -13.750000   \n",
       "25%        0.000000      0.500000      0.000000      0.000000   \n",
       "50%        0.000000      0.500000      7.000000      5.760000   \n",
       "75%        1.000000      0.500000     10.560000      6.550000   \n",
       "max       18.500000      2.540000     95.000000     63.540000   \n",
       "\n",
       "       improvement_surcharge  total_amount  congestion_surcharge  airport_fee  \n",
       "count           21869.000000  21869.000000          16922.000000  9520.000000  \n",
       "mean                0.318684     53.932569              1.373966     0.910583  \n",
       "std                 0.131496     22.720281              1.251292     0.571114  \n",
       "min                -1.000000   -103.650000             -2.500000    -1.250000  \n",
       "25%                 0.300000     40.600000              0.000000     0.000000  \n",
       "50%                 0.300000     53.460000              2.500000     1.250000  \n",
       "75%                 0.300000     68.560000              2.500000     1.250000  \n",
       "max                 1.000000    310.700000              2.750000     1.250000  "
      ]
     },
     "execution_count": 16,
     "metadata": {},
     "output_type": "execute_result"
    }
   ],
   "source": [
    "# Lets see decription of dataset\n",
    "\n",
    "df.describe()"
   ]
  },
  {
   "cell_type": "markdown",
   "metadata": {},
   "source": [
    "###### Some insights from the above summary:\n",
    "\n",
    "1.    Vendor id has a minimum value of 1 and a maximum value of 6 which doesn't make sense as we saw in data dictionary there are two vendor ids 1 and 2. we will drop invalid data.\n",
    "2.    Passenger count has a minimum of 0 which means either it is an error entered or the drivers deliberately entered 0 to complete a target number of rides.\n",
    "3.    Trip distance has a minimum value of 0 which doesn't make sense as . we will drop invalid data.\n",
    "4. There are negative value in some columns which doesn't make sense.\n",
    "5. The minimal fare_amount is negative. As this does not seem to be realistic I will drop them from the dataset.\n",
    "6. payment_type has a minimum value of 0 which doesn't make sense as we saw in data dictionary it can get value range between 1 and 6. we will drop invalid data.\n",
    "7. Rate code ID has a minimum value of 1 and a maximum value of 99 which doesn't make sense as we saw in data dictionary there are only six rate code ids."
   ]
  },
  {
   "cell_type": "code",
   "execution_count": 17,
   "metadata": {
    "scrolled": true
   },
   "outputs": [
    {
     "data": {
      "text/plain": [
       "2    15163\n",
       "1     6661\n",
       "4       44\n",
       "5        1\n",
       "Name: vendor_id, dtype: int64"
      ]
     },
     "execution_count": 17,
     "metadata": {},
     "output_type": "execute_result"
    }
   ],
   "source": [
    "# Lets check the values in vendor_id\n",
    "\n",
    "df['vendor_id'].value_counts()"
   ]
  },
  {
   "cell_type": "markdown",
   "metadata": {},
   "source": [
    "We know there are two vendor ids 1 and 2 in data dictionary. so we need to drop other vendor ids."
   ]
  },
  {
   "cell_type": "code",
   "execution_count": 18,
   "metadata": {},
   "outputs": [],
   "source": [
    "# Lets clean values in vendor_id\n",
    "\n",
    "df = df.drop(df[df.vendor_id.isin([4,5])].index)"
   ]
  },
  {
   "cell_type": "code",
   "execution_count": 19,
   "metadata": {},
   "outputs": [
    {
     "data": {
      "text/plain": [
       "2    15163\n",
       "1     6661\n",
       "Name: vendor_id, dtype: int64"
      ]
     },
     "execution_count": 19,
     "metadata": {},
     "output_type": "execute_result"
    }
   ],
   "source": [
    "# Lets check again the values in vendor_id \n",
    "\n",
    "df['vendor_id'].value_counts()"
   ]
  },
  {
   "cell_type": "code",
   "execution_count": 20,
   "metadata": {},
   "outputs": [
    {
     "data": {
      "text/plain": [
       "1.0     13790\n",
       "2.0      6556\n",
       "3.0       534\n",
       "5.0       387\n",
       "4.0       232\n",
       "99.0        1\n",
       "Name: rate_code_id, dtype: int64"
      ]
     },
     "execution_count": 20,
     "metadata": {},
     "output_type": "execute_result"
    }
   ],
   "source": [
    "# Lets check the values in rate_code_id\n",
    "\n",
    "df['rate_code_id'].value_counts() "
   ]
  },
  {
   "cell_type": "markdown",
   "metadata": {},
   "source": [
    "We saw in data dictionary there are only six rate code ids from 1 to 6. so the value 99 is invalid here."
   ]
  },
  {
   "cell_type": "code",
   "execution_count": 21,
   "metadata": {},
   "outputs": [
    {
     "data": {
      "text/plain": [
       "1.0    13790\n",
       "2.0     6556\n",
       "3.0      534\n",
       "5.0      387\n",
       "4.0      232\n",
       "Name: rate_code_id, dtype: int64"
      ]
     },
     "execution_count": 21,
     "metadata": {},
     "output_type": "execute_result"
    }
   ],
   "source": [
    "# Lets clean values in rate_code_id\n",
    "\n",
    "df = df[df['rate_code_id'] != 99]\n",
    "df['rate_code_id'].value_counts() "
   ]
  },
  {
   "cell_type": "code",
   "execution_count": 22,
   "metadata": {},
   "outputs": [
    {
     "name": "stdout",
     "output_type": "stream",
     "text": [
      "Zeros in vendor_id:0\n",
      "Zeros in tpep_pickup_datetime:0\n",
      "Zeros in tpep_dropoff_datetime:0\n",
      "Zeros in passenger_count:362\n",
      "Zeros in trip_distance:305\n",
      "Zeros in rate_code_id:0\n",
      "Zeros in store_and_fwd_flag:0\n",
      "Zeros in pu_location_id:0\n",
      "Zeros in do_location_id:0\n",
      "Zeros in payment_type:324\n",
      "Zeros in fare_amount:13\n",
      "Zeros in extra:11730\n",
      "Zeros in mta_tax:832\n",
      "Zeros in tip_amount:6584\n",
      "Zeros in tolls_amount:9191\n",
      "Zeros in improvement_surcharge:17\n",
      "Zeros in total_amount:4\n",
      "Zeros in congestion_surcharge:7563\n",
      "Zeros in airport_fee:2480\n"
     ]
    }
   ],
   "source": [
    "# Lets Check zeros in numeric columns\n",
    "\n",
    "def check_for_zeros(df):\n",
    "    for col in df.columns:\n",
    "        zeros = df[df[col] == 0].shape[0]\n",
    "        print(f\"Zeros in {col}:{zeros}\")\n",
    "        \n",
    "check_for_zeros(df)"
   ]
  },
  {
   "cell_type": "markdown",
   "metadata": {},
   "source": [
    "passenger_count, trip_distance, payment_type, payment_type, far_amount, total_amount and other columns all contain zero.\n",
    "\n",
    "\n",
    "Without distance, we can't determine fare amount. There isn't much of a choice but to drop these.\n",
    "\n",
    "The reasons for 0 mile distance can be:\n",
    "* The dropoff location couldn’t be tracked.\n",
    "* The driver deliberately took this ride to complete a target ride number.\n",
    "* The passengers canceled the trip.\n",
    "\n",
    "Passenger count is a driver entered value. Since the trip is not possible without passengers. It is evident that the driver forgot to enter the value for the trips with 0 passenger count. Lets analyze the passenger count distribution further to make it consistent for further analysis\n"
   ]
  },
  {
   "cell_type": "code",
   "execution_count": 23,
   "metadata": {},
   "outputs": [
    {
     "data": {
      "text/plain": [
       "count    21499.000000\n",
       "mean         1.543886\n",
       "std          1.121541\n",
       "min          0.000000\n",
       "25%          1.000000\n",
       "50%          1.000000\n",
       "75%          2.000000\n",
       "max          6.000000\n",
       "Name: passenger_count, dtype: float64"
      ]
     },
     "execution_count": 23,
     "metadata": {},
     "output_type": "execute_result"
    }
   ],
   "source": [
    "df.passenger_count.describe()"
   ]
  },
  {
   "cell_type": "code",
   "execution_count": 24,
   "metadata": {},
   "outputs": [
    {
     "data": {
      "text/plain": [
       "1.0    14647\n",
       "2.0     3952\n",
       "3.0      998\n",
       "5.0      661\n",
       "4.0      466\n",
       "6.0      413\n",
       "0.0      362\n",
       "Name: passenger_count, dtype: int64"
      ]
     },
     "execution_count": 24,
     "metadata": {},
     "output_type": "execute_result"
    }
   ],
   "source": [
    "df.passenger_count.value_counts()"
   ]
  },
  {
   "cell_type": "code",
   "execution_count": 25,
   "metadata": {},
   "outputs": [
    {
     "name": "stdout",
     "output_type": "stream",
     "text": [
      "Zeros in vendor_id:0\n",
      "Zeros in tpep_pickup_datetime:0\n",
      "Zeros in tpep_dropoff_datetime:0\n",
      "Zeros in passenger_count:0\n",
      "Zeros in trip_distance:0\n",
      "Zeros in rate_code_id:0\n",
      "Zeros in store_and_fwd_flag:0\n",
      "Zeros in pu_location_id:0\n",
      "Zeros in do_location_id:0\n",
      "Zeros in payment_type:0\n",
      "Zeros in fare_amount:0\n",
      "Zeros in extra:11116\n",
      "Zeros in mta_tax:717\n",
      "Zeros in tip_amount:6156\n",
      "Zeros in tolls_amount:8597\n",
      "Zeros in improvement_surcharge:8\n",
      "Zeros in total_amount:0\n",
      "Zeros in congestion_surcharge:7120\n",
      "Zeros in airport_fee:2385\n"
     ]
    }
   ],
   "source": [
    "# Dropping rows with negative or 0 values in columns where it is not allowed\n",
    "\n",
    "df = df[df['passenger_count'] > 0]\n",
    "df = df[df['trip_distance'] > 0]\n",
    "df = df[df['fare_amount'] > 0]\n",
    "df = df[df['payment_type'] > 0]\n",
    "\n",
    "check_for_zeros(df)"
   ]
  },
  {
   "cell_type": "code",
   "execution_count": 26,
   "metadata": {},
   "outputs": [],
   "source": [
    "# Lets convert trip_distance from mile to Km\n",
    "\n",
    "df['trip_distance']= df['trip_distance'] * 1.60934"
   ]
  },
  {
   "cell_type": "code",
   "execution_count": 27,
   "metadata": {
    "scrolled": true
   },
   "outputs": [
    {
     "data": {
      "text/html": [
       "<div>\n",
       "<style scoped>\n",
       "    .dataframe tbody tr th:only-of-type {\n",
       "        vertical-align: middle;\n",
       "    }\n",
       "\n",
       "    .dataframe tbody tr th {\n",
       "        vertical-align: top;\n",
       "    }\n",
       "\n",
       "    .dataframe thead th {\n",
       "        text-align: right;\n",
       "    }\n",
       "</style>\n",
       "<table border=\"1\" class=\"dataframe\">\n",
       "  <thead>\n",
       "    <tr style=\"text-align: right;\">\n",
       "      <th></th>\n",
       "      <th>vendor_id</th>\n",
       "      <th>passenger_count</th>\n",
       "      <th>trip_distance</th>\n",
       "      <th>rate_code_id</th>\n",
       "      <th>pu_location_id</th>\n",
       "      <th>do_location_id</th>\n",
       "      <th>payment_type</th>\n",
       "      <th>fare_amount</th>\n",
       "      <th>extra</th>\n",
       "      <th>mta_tax</th>\n",
       "      <th>tip_amount</th>\n",
       "      <th>tolls_amount</th>\n",
       "      <th>improvement_surcharge</th>\n",
       "      <th>total_amount</th>\n",
       "      <th>congestion_surcharge</th>\n",
       "      <th>airport_fee</th>\n",
       "    </tr>\n",
       "  </thead>\n",
       "  <tbody>\n",
       "    <tr>\n",
       "      <th>count</th>\n",
       "      <td>20758.000000</td>\n",
       "      <td>20758.000000</td>\n",
       "      <td>20758.000000</td>\n",
       "      <td>20758.000000</td>\n",
       "      <td>20758.000000</td>\n",
       "      <td>20758.00000</td>\n",
       "      <td>20758.000000</td>\n",
       "      <td>20758.000000</td>\n",
       "      <td>20758.000000</td>\n",
       "      <td>20758.000000</td>\n",
       "      <td>20758.000000</td>\n",
       "      <td>20758.000000</td>\n",
       "      <td>20758.000000</td>\n",
       "      <td>20758.000000</td>\n",
       "      <td>16286.000000</td>\n",
       "      <td>9158.000000</td>\n",
       "    </tr>\n",
       "    <tr>\n",
       "      <th>mean</th>\n",
       "      <td>1.703391</td>\n",
       "      <td>1.571780</td>\n",
       "      <td>21.443373</td>\n",
       "      <td>1.442143</td>\n",
       "      <td>141.936940</td>\n",
       "      <td>142.49181</td>\n",
       "      <td>1.273148</td>\n",
       "      <td>41.055263</td>\n",
       "      <td>0.922871</td>\n",
       "      <td>0.482845</td>\n",
       "      <td>6.555362</td>\n",
       "      <td>3.922707</td>\n",
       "      <td>0.321837</td>\n",
       "      <td>54.377754</td>\n",
       "      <td>1.407052</td>\n",
       "      <td>0.924465</td>\n",
       "    </tr>\n",
       "    <tr>\n",
       "      <th>std</th>\n",
       "      <td>0.456773</td>\n",
       "      <td>1.114934</td>\n",
       "      <td>9.043851</td>\n",
       "      <td>0.720521</td>\n",
       "      <td>34.358708</td>\n",
       "      <td>70.07761</td>\n",
       "      <td>0.470002</td>\n",
       "      <td>16.582245</td>\n",
       "      <td>1.560100</td>\n",
       "      <td>0.092454</td>\n",
       "      <td>5.571712</td>\n",
       "      <td>3.763649</td>\n",
       "      <td>0.122170</td>\n",
       "      <td>21.659129</td>\n",
       "      <td>1.240150</td>\n",
       "      <td>0.548615</td>\n",
       "    </tr>\n",
       "    <tr>\n",
       "      <th>min</th>\n",
       "      <td>1.000000</td>\n",
       "      <td>1.000000</td>\n",
       "      <td>0.016093</td>\n",
       "      <td>1.000000</td>\n",
       "      <td>1.000000</td>\n",
       "      <td>1.00000</td>\n",
       "      <td>1.000000</td>\n",
       "      <td>0.010000</td>\n",
       "      <td>0.000000</td>\n",
       "      <td>0.000000</td>\n",
       "      <td>0.000000</td>\n",
       "      <td>0.000000</td>\n",
       "      <td>0.000000</td>\n",
       "      <td>0.310000</td>\n",
       "      <td>0.000000</td>\n",
       "      <td>0.000000</td>\n",
       "    </tr>\n",
       "    <tr>\n",
       "      <th>25%</th>\n",
       "      <td>1.000000</td>\n",
       "      <td>1.000000</td>\n",
       "      <td>14.966862</td>\n",
       "      <td>1.000000</td>\n",
       "      <td>132.000000</td>\n",
       "      <td>96.00000</td>\n",
       "      <td>1.000000</td>\n",
       "      <td>29.500000</td>\n",
       "      <td>0.000000</td>\n",
       "      <td>0.500000</td>\n",
       "      <td>0.000000</td>\n",
       "      <td>0.000000</td>\n",
       "      <td>0.300000</td>\n",
       "      <td>40.860000</td>\n",
       "      <td>0.000000</td>\n",
       "      <td>0.000000</td>\n",
       "    </tr>\n",
       "    <tr>\n",
       "      <th>50%</th>\n",
       "      <td>2.000000</td>\n",
       "      <td>1.000000</td>\n",
       "      <td>19.794882</td>\n",
       "      <td>1.000000</td>\n",
       "      <td>132.000000</td>\n",
       "      <td>138.00000</td>\n",
       "      <td>1.000000</td>\n",
       "      <td>40.500000</td>\n",
       "      <td>0.000000</td>\n",
       "      <td>0.500000</td>\n",
       "      <td>7.000000</td>\n",
       "      <td>5.760000</td>\n",
       "      <td>0.300000</td>\n",
       "      <td>53.520000</td>\n",
       "      <td>2.500000</td>\n",
       "      <td>1.250000</td>\n",
       "    </tr>\n",
       "    <tr>\n",
       "      <th>75%</th>\n",
       "      <td>2.000000</td>\n",
       "      <td>2.000000</td>\n",
       "      <td>28.710626</td>\n",
       "      <td>2.000000</td>\n",
       "      <td>138.000000</td>\n",
       "      <td>193.00000</td>\n",
       "      <td>2.000000</td>\n",
       "      <td>52.000000</td>\n",
       "      <td>1.000000</td>\n",
       "      <td>0.500000</td>\n",
       "      <td>10.560000</td>\n",
       "      <td>6.550000</td>\n",
       "      <td>0.300000</td>\n",
       "      <td>68.450000</td>\n",
       "      <td>2.500000</td>\n",
       "      <td>1.250000</td>\n",
       "    </tr>\n",
       "    <tr>\n",
       "      <th>max</th>\n",
       "      <td>2.000000</td>\n",
       "      <td>6.000000</td>\n",
       "      <td>131.241677</td>\n",
       "      <td>5.000000</td>\n",
       "      <td>265.000000</td>\n",
       "      <td>265.00000</td>\n",
       "      <td>4.000000</td>\n",
       "      <td>275.550000</td>\n",
       "      <td>11.250000</td>\n",
       "      <td>2.540000</td>\n",
       "      <td>95.000000</td>\n",
       "      <td>63.540000</td>\n",
       "      <td>1.000000</td>\n",
       "      <td>310.700000</td>\n",
       "      <td>2.750000</td>\n",
       "      <td>1.250000</td>\n",
       "    </tr>\n",
       "  </tbody>\n",
       "</table>\n",
       "</div>"
      ],
      "text/plain": [
       "          vendor_id  passenger_count  trip_distance  rate_code_id  \\\n",
       "count  20758.000000     20758.000000   20758.000000  20758.000000   \n",
       "mean       1.703391         1.571780      21.443373      1.442143   \n",
       "std        0.456773         1.114934       9.043851      0.720521   \n",
       "min        1.000000         1.000000       0.016093      1.000000   \n",
       "25%        1.000000         1.000000      14.966862      1.000000   \n",
       "50%        2.000000         1.000000      19.794882      1.000000   \n",
       "75%        2.000000         2.000000      28.710626      2.000000   \n",
       "max        2.000000         6.000000     131.241677      5.000000   \n",
       "\n",
       "       pu_location_id  do_location_id  payment_type   fare_amount  \\\n",
       "count    20758.000000     20758.00000  20758.000000  20758.000000   \n",
       "mean       141.936940       142.49181      1.273148     41.055263   \n",
       "std         34.358708        70.07761      0.470002     16.582245   \n",
       "min          1.000000         1.00000      1.000000      0.010000   \n",
       "25%        132.000000        96.00000      1.000000     29.500000   \n",
       "50%        132.000000       138.00000      1.000000     40.500000   \n",
       "75%        138.000000       193.00000      2.000000     52.000000   \n",
       "max        265.000000       265.00000      4.000000    275.550000   \n",
       "\n",
       "              extra       mta_tax    tip_amount  tolls_amount  \\\n",
       "count  20758.000000  20758.000000  20758.000000  20758.000000   \n",
       "mean       0.922871      0.482845      6.555362      3.922707   \n",
       "std        1.560100      0.092454      5.571712      3.763649   \n",
       "min        0.000000      0.000000      0.000000      0.000000   \n",
       "25%        0.000000      0.500000      0.000000      0.000000   \n",
       "50%        0.000000      0.500000      7.000000      5.760000   \n",
       "75%        1.000000      0.500000     10.560000      6.550000   \n",
       "max       11.250000      2.540000     95.000000     63.540000   \n",
       "\n",
       "       improvement_surcharge  total_amount  congestion_surcharge  airport_fee  \n",
       "count           20758.000000  20758.000000          16286.000000  9158.000000  \n",
       "mean                0.321837     54.377754              1.407052     0.924465  \n",
       "std                 0.122170     21.659129              1.240150     0.548615  \n",
       "min                 0.000000      0.310000              0.000000     0.000000  \n",
       "25%                 0.300000     40.860000              0.000000     0.000000  \n",
       "50%                 0.300000     53.520000              2.500000     1.250000  \n",
       "75%                 0.300000     68.450000              2.500000     1.250000  \n",
       "max                 1.000000    310.700000              2.750000     1.250000  "
      ]
     },
     "execution_count": 27,
     "metadata": {},
     "output_type": "execute_result"
    }
   ],
   "source": [
    "# Lets check dataset again\n",
    "\n",
    "df.describe()"
   ]
  },
  {
   "cell_type": "markdown",
   "metadata": {},
   "source": [
    "it seems dataset was cleaned and there is no negative amount in total amount and fare amount."
   ]
  },
  {
   "cell_type": "code",
   "execution_count": 28,
   "metadata": {},
   "outputs": [
    {
     "data": {
      "text/plain": [
       "vendor_id                    0\n",
       "tpep_pickup_datetime         0\n",
       "tpep_dropoff_datetime        0\n",
       "passenger_count              0\n",
       "trip_distance                0\n",
       "rate_code_id                 0\n",
       "store_and_fwd_flag           0\n",
       "pu_location_id               0\n",
       "do_location_id               0\n",
       "payment_type                 0\n",
       "fare_amount                  0\n",
       "extra                        0\n",
       "mta_tax                      0\n",
       "tip_amount                   0\n",
       "tolls_amount                 0\n",
       "improvement_surcharge        0\n",
       "total_amount                 0\n",
       "congestion_surcharge      4472\n",
       "airport_fee              11600\n",
       "dtype: int64"
      ]
     },
     "execution_count": 28,
     "metadata": {},
     "output_type": "execute_result"
    }
   ],
   "source": [
    "# Lets check the number of null values in dataset\n",
    "\n",
    "df.isnull().sum()"
   ]
  },
  {
   "cell_type": "markdown",
   "metadata": {},
   "source": [
    "<a id=feature></a>\n",
    "## Feature Engineering"
   ]
  },
  {
   "cell_type": "code",
   "execution_count": 29,
   "metadata": {},
   "outputs": [
    {
     "name": "stdout",
     "output_type": "stream",
     "text": [
      "<class 'pandas.core.frame.DataFrame'>\n",
      "Int64Index: 20758 entries, 26 to 304971\n",
      "Data columns (total 19 columns):\n",
      " #   Column                 Non-Null Count  Dtype  \n",
      "---  ------                 --------------  -----  \n",
      " 0   vendor_id              20758 non-null  int64  \n",
      " 1   tpep_pickup_datetime   20758 non-null  object \n",
      " 2   tpep_dropoff_datetime  20758 non-null  object \n",
      " 3   passenger_count        20758 non-null  float64\n",
      " 4   trip_distance          20758 non-null  float64\n",
      " 5   rate_code_id           20758 non-null  float64\n",
      " 6   store_and_fwd_flag     20758 non-null  object \n",
      " 7   pu_location_id         20758 non-null  int64  \n",
      " 8   do_location_id         20758 non-null  int64  \n",
      " 9   payment_type           20758 non-null  int64  \n",
      " 10  fare_amount            20758 non-null  float64\n",
      " 11  extra                  20758 non-null  float64\n",
      " 12  mta_tax                20758 non-null  float64\n",
      " 13  tip_amount             20758 non-null  float64\n",
      " 14  tolls_amount           20758 non-null  float64\n",
      " 15  improvement_surcharge  20758 non-null  float64\n",
      " 16  total_amount           20758 non-null  float64\n",
      " 17  congestion_surcharge   16286 non-null  float64\n",
      " 18  airport_fee            9158 non-null   float64\n",
      "dtypes: float64(12), int64(4), object(3)\n",
      "memory usage: 3.2+ MB\n"
     ]
    }
   ],
   "source": [
    "# Lets check the datatypes and non-null count in dataset\n",
    "\n",
    "df.info()"
   ]
  },
  {
   "cell_type": "code",
   "execution_count": 30,
   "metadata": {},
   "outputs": [
    {
     "name": "stdout",
     "output_type": "stream",
     "text": [
      "data type tpep_pickup_datetime is: datetime64[ns]\n",
      "data type tpep_dropoff_datetime is: datetime64[ns]\n"
     ]
    }
   ],
   "source": [
    "# Lets first convert the pickup time and dropoff time to datetime from object type\n",
    "\n",
    "df.tpep_pickup_datetime=pd.to_datetime(df.tpep_pickup_datetime)\n",
    "df.tpep_dropoff_datetime=pd.to_datetime(df.tpep_dropoff_datetime)\n",
    "print('data type tpep_pickup_datetime is:', df.tpep_pickup_datetime.dtype)\n",
    "print('data type tpep_dropoff_datetime is:', df.tpep_dropoff_datetime.dtype)"
   ]
  },
  {
   "cell_type": "code",
   "execution_count": 31,
   "metadata": {},
   "outputs": [
    {
     "data": {
      "text/html": [
       "<div>\n",
       "<style scoped>\n",
       "    .dataframe tbody tr th:only-of-type {\n",
       "        vertical-align: middle;\n",
       "    }\n",
       "\n",
       "    .dataframe tbody tr th {\n",
       "        vertical-align: top;\n",
       "    }\n",
       "\n",
       "    .dataframe thead th {\n",
       "        text-align: right;\n",
       "    }\n",
       "</style>\n",
       "<table border=\"1\" class=\"dataframe\">\n",
       "  <thead>\n",
       "    <tr style=\"text-align: right;\">\n",
       "      <th></th>\n",
       "      <th>vendor_id</th>\n",
       "      <th>tpep_pickup_datetime</th>\n",
       "      <th>tpep_dropoff_datetime</th>\n",
       "      <th>passenger_count</th>\n",
       "      <th>trip_distance</th>\n",
       "      <th>rate_code_id</th>\n",
       "      <th>store_and_fwd_flag</th>\n",
       "      <th>pu_location_id</th>\n",
       "      <th>do_location_id</th>\n",
       "      <th>payment_type</th>\n",
       "      <th>...</th>\n",
       "      <th>total_amount</th>\n",
       "      <th>congestion_surcharge</th>\n",
       "      <th>airport_fee</th>\n",
       "      <th>hour</th>\n",
       "      <th>day</th>\n",
       "      <th>month</th>\n",
       "      <th>year</th>\n",
       "      <th>duration</th>\n",
       "      <th>trip_duration</th>\n",
       "      <th>speed</th>\n",
       "    </tr>\n",
       "    <tr>\n",
       "      <th>id</th>\n",
       "      <th></th>\n",
       "      <th></th>\n",
       "      <th></th>\n",
       "      <th></th>\n",
       "      <th></th>\n",
       "      <th></th>\n",
       "      <th></th>\n",
       "      <th></th>\n",
       "      <th></th>\n",
       "      <th></th>\n",
       "      <th></th>\n",
       "      <th></th>\n",
       "      <th></th>\n",
       "      <th></th>\n",
       "      <th></th>\n",
       "      <th></th>\n",
       "      <th></th>\n",
       "      <th></th>\n",
       "      <th></th>\n",
       "      <th></th>\n",
       "      <th></th>\n",
       "    </tr>\n",
       "  </thead>\n",
       "  <tbody>\n",
       "    <tr>\n",
       "      <th>26</th>\n",
       "      <td>2</td>\n",
       "      <td>2018-01-01 09:18:16</td>\n",
       "      <td>2018-01-01 09:48:35</td>\n",
       "      <td>1.0</td>\n",
       "      <td>27.728928</td>\n",
       "      <td>2.0</td>\n",
       "      <td>N</td>\n",
       "      <td>141</td>\n",
       "      <td>132</td>\n",
       "      <td>2</td>\n",
       "      <td>...</td>\n",
       "      <td>52.80</td>\n",
       "      <td>NaN</td>\n",
       "      <td>NaN</td>\n",
       "      <td>9</td>\n",
       "      <td>Monday</td>\n",
       "      <td>1</td>\n",
       "      <td>2018</td>\n",
       "      <td>00:30:19</td>\n",
       "      <td>0.505278</td>\n",
       "      <td>54.878582</td>\n",
       "    </tr>\n",
       "    <tr>\n",
       "      <th>87</th>\n",
       "      <td>1</td>\n",
       "      <td>2018-01-01 11:06:11</td>\n",
       "      <td>2018-01-01 11:20:21</td>\n",
       "      <td>1.0</td>\n",
       "      <td>15.449664</td>\n",
       "      <td>1.0</td>\n",
       "      <td>N</td>\n",
       "      <td>148</td>\n",
       "      <td>138</td>\n",
       "      <td>4</td>\n",
       "      <td>...</td>\n",
       "      <td>27.80</td>\n",
       "      <td>NaN</td>\n",
       "      <td>NaN</td>\n",
       "      <td>11</td>\n",
       "      <td>Monday</td>\n",
       "      <td>1</td>\n",
       "      <td>2018</td>\n",
       "      <td>00:14:10</td>\n",
       "      <td>0.236111</td>\n",
       "      <td>65.433871</td>\n",
       "    </tr>\n",
       "    <tr>\n",
       "      <th>101</th>\n",
       "      <td>2</td>\n",
       "      <td>2018-01-01 13:01:12</td>\n",
       "      <td>2018-01-01 13:34:59</td>\n",
       "      <td>1.0</td>\n",
       "      <td>35.051425</td>\n",
       "      <td>2.0</td>\n",
       "      <td>N</td>\n",
       "      <td>142</td>\n",
       "      <td>132</td>\n",
       "      <td>1</td>\n",
       "      <td>...</td>\n",
       "      <td>66.56</td>\n",
       "      <td>NaN</td>\n",
       "      <td>NaN</td>\n",
       "      <td>13</td>\n",
       "      <td>Monday</td>\n",
       "      <td>1</td>\n",
       "      <td>2018</td>\n",
       "      <td>00:33:47</td>\n",
       "      <td>0.563056</td>\n",
       "      <td>62.252161</td>\n",
       "    </tr>\n",
       "    <tr>\n",
       "      <th>108</th>\n",
       "      <td>2</td>\n",
       "      <td>2018-01-01 13:53:43</td>\n",
       "      <td>2018-01-01 14:26:22</td>\n",
       "      <td>1.0</td>\n",
       "      <td>27.519714</td>\n",
       "      <td>2.0</td>\n",
       "      <td>N</td>\n",
       "      <td>230</td>\n",
       "      <td>132</td>\n",
       "      <td>1</td>\n",
       "      <td>...</td>\n",
       "      <td>64.56</td>\n",
       "      <td>NaN</td>\n",
       "      <td>NaN</td>\n",
       "      <td>13</td>\n",
       "      <td>Monday</td>\n",
       "      <td>1</td>\n",
       "      <td>2018</td>\n",
       "      <td>00:32:39</td>\n",
       "      <td>0.544167</td>\n",
       "      <td>50.572216</td>\n",
       "    </tr>\n",
       "    <tr>\n",
       "      <th>133</th>\n",
       "      <td>1</td>\n",
       "      <td>2018-01-01 11:55:10</td>\n",
       "      <td>2018-01-01 12:18:05</td>\n",
       "      <td>2.0</td>\n",
       "      <td>16.576202</td>\n",
       "      <td>1.0</td>\n",
       "      <td>N</td>\n",
       "      <td>68</td>\n",
       "      <td>138</td>\n",
       "      <td>1</td>\n",
       "      <td>...</td>\n",
       "      <td>37.06</td>\n",
       "      <td>NaN</td>\n",
       "      <td>NaN</td>\n",
       "      <td>11</td>\n",
       "      <td>Monday</td>\n",
       "      <td>1</td>\n",
       "      <td>2018</td>\n",
       "      <td>00:22:55</td>\n",
       "      <td>0.381944</td>\n",
       "      <td>43.399511</td>\n",
       "    </tr>\n",
       "  </tbody>\n",
       "</table>\n",
       "<p>5 rows × 26 columns</p>\n",
       "</div>"
      ],
      "text/plain": [
       "     vendor_id tpep_pickup_datetime tpep_dropoff_datetime  passenger_count  \\\n",
       "id                                                                           \n",
       "26           2  2018-01-01 09:18:16   2018-01-01 09:48:35              1.0   \n",
       "87           1  2018-01-01 11:06:11   2018-01-01 11:20:21              1.0   \n",
       "101          2  2018-01-01 13:01:12   2018-01-01 13:34:59              1.0   \n",
       "108          2  2018-01-01 13:53:43   2018-01-01 14:26:22              1.0   \n",
       "133          1  2018-01-01 11:55:10   2018-01-01 12:18:05              2.0   \n",
       "\n",
       "     trip_distance  rate_code_id store_and_fwd_flag  pu_location_id  \\\n",
       "id                                                                    \n",
       "26       27.728928           2.0                  N             141   \n",
       "87       15.449664           1.0                  N             148   \n",
       "101      35.051425           2.0                  N             142   \n",
       "108      27.519714           2.0                  N             230   \n",
       "133      16.576202           1.0                  N              68   \n",
       "\n",
       "     do_location_id  payment_type  ...  total_amount  congestion_surcharge  \\\n",
       "id                                 ...                                       \n",
       "26              132             2  ...         52.80                   NaN   \n",
       "87              138             4  ...         27.80                   NaN   \n",
       "101             132             1  ...         66.56                   NaN   \n",
       "108             132             1  ...         64.56                   NaN   \n",
       "133             138             1  ...         37.06                   NaN   \n",
       "\n",
       "     airport_fee  hour     day  month  year  duration  trip_duration  \\\n",
       "id                                                                     \n",
       "26           NaN     9  Monday      1  2018  00:30:19       0.505278   \n",
       "87           NaN    11  Monday      1  2018  00:14:10       0.236111   \n",
       "101          NaN    13  Monday      1  2018  00:33:47       0.563056   \n",
       "108          NaN    13  Monday      1  2018  00:32:39       0.544167   \n",
       "133          NaN    11  Monday      1  2018  00:22:55       0.381944   \n",
       "\n",
       "         speed  \n",
       "id              \n",
       "26   54.878582  \n",
       "87   65.433871  \n",
       "101  62.252161  \n",
       "108  50.572216  \n",
       "133  43.399511  \n",
       "\n",
       "[5 rows x 26 columns]"
      ]
     },
     "execution_count": 31,
     "metadata": {},
     "output_type": "execute_result"
    }
   ],
   "source": [
    "# Lets create new columns from pickup time to get more clear insights :\n",
    "\n",
    "df['hour']=df['tpep_pickup_datetime'].dt.hour\n",
    "df['day']=df['tpep_pickup_datetime'].dt.day_name()\n",
    "df['month']=df['tpep_pickup_datetime'].dt.month\n",
    "df['year']=df['tpep_pickup_datetime'].dt.year\n",
    "df['duration']=df['tpep_dropoff_datetime']-df['tpep_pickup_datetime']\n",
    "df['trip_duration']=(df.duration.dt.seconds)/3600\n",
    "df['speed'] = df['trip_distance'] /df['trip_duration']\n",
    "df.head()"
   ]
  },
  {
   "cell_type": "markdown",
   "metadata": {},
   "source": [
    " We have created the following features:\n",
    "\n",
    "- day and dropoff_day which will contain the name of the day on which the ride was taken.\n",
    "- day_no and dropoff_day_no which will contain the day number instead of characters with Monday=0 and Sunday=6.\n",
    "- hour and dropoff_hour with an hour of the day in the 24-hour format.\n",
    "- month and dropoff_month with month number with January=1 and December=12\n",
    "- trip_duration is the time beetween drop off and pick up\n",
    "- trip_duration calculate based on hour\n",
    "- speed (Km/h)"
   ]
  },
  {
   "cell_type": "markdown",
   "metadata": {},
   "source": [
    "I have defined a function that lets us determine what time of the day the ride was taken. I have created 4 time zones ‘Morning’ (from 6:00 am to 11:59 pm), ‘Afternoon’ (from 12 noon to 3:59 pm), ‘Evening’ (from 4:00 pm to 9:59 pm), and ‘Late Night’ (from 10:00 pm to 5:59 am)"
   ]
  },
  {
   "cell_type": "code",
   "execution_count": 32,
   "metadata": {},
   "outputs": [],
   "source": [
    "def time_of_day(x):\n",
    "    if x in range(6,12):\n",
    "        return 'Morning'\n",
    "    elif x in range(12,16):\n",
    "        return 'Afternoon'\n",
    "    elif x in range(16,22):\n",
    "        return 'Evening'\n",
    "    else:\n",
    "        return 'Late night'"
   ]
  },
  {
   "cell_type": "markdown",
   "metadata": {},
   "source": [
    "Now let us apply this function and create new columns in the dataset."
   ]
  },
  {
   "cell_type": "code",
   "execution_count": 33,
   "metadata": {},
   "outputs": [],
   "source": [
    "df['time_of_day']=df['hour'].apply(time_of_day)"
   ]
  },
  {
   "cell_type": "markdown",
   "metadata": {},
   "source": [
    "The only dropoff information we needed to calculate the length of the trip was tpep_dropoff_datetime .\\\n",
    "Now, the datetime columns can be dropped entirely!"
   ]
  },
  {
   "cell_type": "code",
   "execution_count": 34,
   "metadata": {},
   "outputs": [],
   "source": [
    "df.drop(['tpep_pickup_datetime', 'tpep_dropoff_datetime'], axis=1, inplace=True)"
   ]
  },
  {
   "cell_type": "code",
   "execution_count": 35,
   "metadata": {},
   "outputs": [],
   "source": [
    "df.reset_index(inplace=True)"
   ]
  },
  {
   "cell_type": "code",
   "execution_count": 36,
   "metadata": {},
   "outputs": [
    {
     "data": {
      "text/html": [
       "<div>\n",
       "<style scoped>\n",
       "    .dataframe tbody tr th:only-of-type {\n",
       "        vertical-align: middle;\n",
       "    }\n",
       "\n",
       "    .dataframe tbody tr th {\n",
       "        vertical-align: top;\n",
       "    }\n",
       "\n",
       "    .dataframe thead th {\n",
       "        text-align: right;\n",
       "    }\n",
       "</style>\n",
       "<table border=\"1\" class=\"dataframe\">\n",
       "  <thead>\n",
       "    <tr style=\"text-align: right;\">\n",
       "      <th></th>\n",
       "      <th>id</th>\n",
       "      <th>vendor_id</th>\n",
       "      <th>passenger_count</th>\n",
       "      <th>trip_distance</th>\n",
       "      <th>rate_code_id</th>\n",
       "      <th>pu_location_id</th>\n",
       "      <th>do_location_id</th>\n",
       "      <th>payment_type</th>\n",
       "      <th>fare_amount</th>\n",
       "      <th>extra</th>\n",
       "      <th>...</th>\n",
       "      <th>improvement_surcharge</th>\n",
       "      <th>total_amount</th>\n",
       "      <th>congestion_surcharge</th>\n",
       "      <th>airport_fee</th>\n",
       "      <th>hour</th>\n",
       "      <th>month</th>\n",
       "      <th>year</th>\n",
       "      <th>duration</th>\n",
       "      <th>trip_duration</th>\n",
       "      <th>speed</th>\n",
       "    </tr>\n",
       "  </thead>\n",
       "  <tbody>\n",
       "    <tr>\n",
       "      <th>count</th>\n",
       "      <td>20758.000000</td>\n",
       "      <td>20758.000000</td>\n",
       "      <td>20758.000000</td>\n",
       "      <td>20758.000000</td>\n",
       "      <td>20758.000000</td>\n",
       "      <td>20758.000000</td>\n",
       "      <td>20758.00000</td>\n",
       "      <td>20758.000000</td>\n",
       "      <td>20758.000000</td>\n",
       "      <td>20758.000000</td>\n",
       "      <td>...</td>\n",
       "      <td>20758.000000</td>\n",
       "      <td>20758.000000</td>\n",
       "      <td>16286.000000</td>\n",
       "      <td>9158.000000</td>\n",
       "      <td>20758.000000</td>\n",
       "      <td>20758.000000</td>\n",
       "      <td>20758.000000</td>\n",
       "      <td>20758</td>\n",
       "      <td>20758.000000</td>\n",
       "      <td>2.075800e+04</td>\n",
       "    </tr>\n",
       "    <tr>\n",
       "      <th>mean</th>\n",
       "      <td>159112.058483</td>\n",
       "      <td>1.703391</td>\n",
       "      <td>1.571780</td>\n",
       "      <td>21.443373</td>\n",
       "      <td>1.442143</td>\n",
       "      <td>141.936940</td>\n",
       "      <td>142.49181</td>\n",
       "      <td>1.273148</td>\n",
       "      <td>41.055263</td>\n",
       "      <td>0.922871</td>\n",
       "      <td>...</td>\n",
       "      <td>0.321837</td>\n",
       "      <td>54.377754</td>\n",
       "      <td>1.407052</td>\n",
       "      <td>0.924465</td>\n",
       "      <td>14.059881</td>\n",
       "      <td>6.616052</td>\n",
       "      <td>2020.142018</td>\n",
       "      <td>0 days 00:39:01.608440</td>\n",
       "      <td>0.650447</td>\n",
       "      <td>inf</td>\n",
       "    </tr>\n",
       "    <tr>\n",
       "      <th>std</th>\n",
       "      <td>95775.855658</td>\n",
       "      <td>0.456773</td>\n",
       "      <td>1.114934</td>\n",
       "      <td>9.043851</td>\n",
       "      <td>0.720521</td>\n",
       "      <td>34.358708</td>\n",
       "      <td>70.07761</td>\n",
       "      <td>0.470002</td>\n",
       "      <td>16.582245</td>\n",
       "      <td>1.560100</td>\n",
       "      <td>...</td>\n",
       "      <td>0.122170</td>\n",
       "      <td>21.659129</td>\n",
       "      <td>1.240150</td>\n",
       "      <td>0.548615</td>\n",
       "      <td>5.676105</td>\n",
       "      <td>3.473226</td>\n",
       "      <td>1.573455</td>\n",
       "      <td>0 days 01:10:36.058071</td>\n",
       "      <td>1.176683</td>\n",
       "      <td>NaN</td>\n",
       "    </tr>\n",
       "    <tr>\n",
       "      <th>min</th>\n",
       "      <td>11.000000</td>\n",
       "      <td>1.000000</td>\n",
       "      <td>1.000000</td>\n",
       "      <td>0.016093</td>\n",
       "      <td>1.000000</td>\n",
       "      <td>1.000000</td>\n",
       "      <td>1.00000</td>\n",
       "      <td>1.000000</td>\n",
       "      <td>0.010000</td>\n",
       "      <td>0.000000</td>\n",
       "      <td>...</td>\n",
       "      <td>0.000000</td>\n",
       "      <td>0.310000</td>\n",
       "      <td>0.000000</td>\n",
       "      <td>0.000000</td>\n",
       "      <td>0.000000</td>\n",
       "      <td>1.000000</td>\n",
       "      <td>2018.000000</td>\n",
       "      <td>0 days 00:00:00</td>\n",
       "      <td>0.000000</td>\n",
       "      <td>2.962733e-02</td>\n",
       "    </tr>\n",
       "    <tr>\n",
       "      <th>25%</th>\n",
       "      <td>73687.250000</td>\n",
       "      <td>1.000000</td>\n",
       "      <td>1.000000</td>\n",
       "      <td>14.966862</td>\n",
       "      <td>1.000000</td>\n",
       "      <td>132.000000</td>\n",
       "      <td>96.00000</td>\n",
       "      <td>1.000000</td>\n",
       "      <td>29.500000</td>\n",
       "      <td>0.000000</td>\n",
       "      <td>...</td>\n",
       "      <td>0.300000</td>\n",
       "      <td>40.860000</td>\n",
       "      <td>0.000000</td>\n",
       "      <td>0.000000</td>\n",
       "      <td>10.000000</td>\n",
       "      <td>4.000000</td>\n",
       "      <td>2019.000000</td>\n",
       "      <td>0 days 00:23:20</td>\n",
       "      <td>0.388889</td>\n",
       "      <td>2.896812e+01</td>\n",
       "    </tr>\n",
       "    <tr>\n",
       "      <th>50%</th>\n",
       "      <td>154811.500000</td>\n",
       "      <td>2.000000</td>\n",
       "      <td>1.000000</td>\n",
       "      <td>19.794882</td>\n",
       "      <td>1.000000</td>\n",
       "      <td>132.000000</td>\n",
       "      <td>138.00000</td>\n",
       "      <td>1.000000</td>\n",
       "      <td>40.500000</td>\n",
       "      <td>0.000000</td>\n",
       "      <td>...</td>\n",
       "      <td>0.300000</td>\n",
       "      <td>53.520000</td>\n",
       "      <td>2.500000</td>\n",
       "      <td>1.250000</td>\n",
       "      <td>15.000000</td>\n",
       "      <td>7.000000</td>\n",
       "      <td>2020.000000</td>\n",
       "      <td>0 days 00:32:48</td>\n",
       "      <td>0.546667</td>\n",
       "      <td>3.775178e+01</td>\n",
       "    </tr>\n",
       "    <tr>\n",
       "      <th>75%</th>\n",
       "      <td>251734.250000</td>\n",
       "      <td>2.000000</td>\n",
       "      <td>2.000000</td>\n",
       "      <td>28.710626</td>\n",
       "      <td>2.000000</td>\n",
       "      <td>138.000000</td>\n",
       "      <td>193.00000</td>\n",
       "      <td>2.000000</td>\n",
       "      <td>52.000000</td>\n",
       "      <td>1.000000</td>\n",
       "      <td>...</td>\n",
       "      <td>0.300000</td>\n",
       "      <td>68.450000</td>\n",
       "      <td>2.500000</td>\n",
       "      <td>1.250000</td>\n",
       "      <td>18.000000</td>\n",
       "      <td>10.000000</td>\n",
       "      <td>2022.000000</td>\n",
       "      <td>0 days 00:45:05</td>\n",
       "      <td>0.751389</td>\n",
       "      <td>4.821968e+01</td>\n",
       "    </tr>\n",
       "    <tr>\n",
       "      <th>max</th>\n",
       "      <td>304971.000000</td>\n",
       "      <td>2.000000</td>\n",
       "      <td>6.000000</td>\n",
       "      <td>131.241677</td>\n",
       "      <td>5.000000</td>\n",
       "      <td>265.000000</td>\n",
       "      <td>265.00000</td>\n",
       "      <td>4.000000</td>\n",
       "      <td>275.550000</td>\n",
       "      <td>11.250000</td>\n",
       "      <td>...</td>\n",
       "      <td>1.000000</td>\n",
       "      <td>310.700000</td>\n",
       "      <td>2.750000</td>\n",
       "      <td>1.250000</td>\n",
       "      <td>23.000000</td>\n",
       "      <td>12.000000</td>\n",
       "      <td>2023.000000</td>\n",
       "      <td>0 days 23:59:28</td>\n",
       "      <td>23.991111</td>\n",
       "      <td>inf</td>\n",
       "    </tr>\n",
       "  </tbody>\n",
       "</table>\n",
       "<p>8 rows × 23 columns</p>\n",
       "</div>"
      ],
      "text/plain": [
       "                  id     vendor_id  passenger_count  trip_distance  \\\n",
       "count   20758.000000  20758.000000     20758.000000   20758.000000   \n",
       "mean   159112.058483      1.703391         1.571780      21.443373   \n",
       "std     95775.855658      0.456773         1.114934       9.043851   \n",
       "min        11.000000      1.000000         1.000000       0.016093   \n",
       "25%     73687.250000      1.000000         1.000000      14.966862   \n",
       "50%    154811.500000      2.000000         1.000000      19.794882   \n",
       "75%    251734.250000      2.000000         2.000000      28.710626   \n",
       "max    304971.000000      2.000000         6.000000     131.241677   \n",
       "\n",
       "       rate_code_id  pu_location_id  do_location_id  payment_type  \\\n",
       "count  20758.000000    20758.000000     20758.00000  20758.000000   \n",
       "mean       1.442143      141.936940       142.49181      1.273148   \n",
       "std        0.720521       34.358708        70.07761      0.470002   \n",
       "min        1.000000        1.000000         1.00000      1.000000   \n",
       "25%        1.000000      132.000000        96.00000      1.000000   \n",
       "50%        1.000000      132.000000       138.00000      1.000000   \n",
       "75%        2.000000      138.000000       193.00000      2.000000   \n",
       "max        5.000000      265.000000       265.00000      4.000000   \n",
       "\n",
       "        fare_amount         extra  ...  improvement_surcharge  total_amount  \\\n",
       "count  20758.000000  20758.000000  ...           20758.000000  20758.000000   \n",
       "mean      41.055263      0.922871  ...               0.321837     54.377754   \n",
       "std       16.582245      1.560100  ...               0.122170     21.659129   \n",
       "min        0.010000      0.000000  ...               0.000000      0.310000   \n",
       "25%       29.500000      0.000000  ...               0.300000     40.860000   \n",
       "50%       40.500000      0.000000  ...               0.300000     53.520000   \n",
       "75%       52.000000      1.000000  ...               0.300000     68.450000   \n",
       "max      275.550000     11.250000  ...               1.000000    310.700000   \n",
       "\n",
       "       congestion_surcharge  airport_fee          hour         month  \\\n",
       "count          16286.000000  9158.000000  20758.000000  20758.000000   \n",
       "mean               1.407052     0.924465     14.059881      6.616052   \n",
       "std                1.240150     0.548615      5.676105      3.473226   \n",
       "min                0.000000     0.000000      0.000000      1.000000   \n",
       "25%                0.000000     0.000000     10.000000      4.000000   \n",
       "50%                2.500000     1.250000     15.000000      7.000000   \n",
       "75%                2.500000     1.250000     18.000000     10.000000   \n",
       "max                2.750000     1.250000     23.000000     12.000000   \n",
       "\n",
       "               year                duration  trip_duration         speed  \n",
       "count  20758.000000                   20758   20758.000000  2.075800e+04  \n",
       "mean    2020.142018  0 days 00:39:01.608440       0.650447           inf  \n",
       "std        1.573455  0 days 01:10:36.058071       1.176683           NaN  \n",
       "min     2018.000000         0 days 00:00:00       0.000000  2.962733e-02  \n",
       "25%     2019.000000         0 days 00:23:20       0.388889  2.896812e+01  \n",
       "50%     2020.000000         0 days 00:32:48       0.546667  3.775178e+01  \n",
       "75%     2022.000000         0 days 00:45:05       0.751389  4.821968e+01  \n",
       "max     2023.000000         0 days 23:59:28      23.991111           inf  \n",
       "\n",
       "[8 rows x 23 columns]"
      ]
     },
     "execution_count": 36,
     "metadata": {},
     "output_type": "execute_result"
    }
   ],
   "source": [
    "df.describe()"
   ]
  },
  {
   "cell_type": "markdown",
   "metadata": {},
   "source": [
    "  Now that the dates have been broken down properly, and we have our trip duration sorted out, we can clean these new features!\n",
    " \n",
    " First, any trips with a duration of 0 need to be dropped. These trips won't be useful, and are certaintly caused by a data entry error.these rows affected on speed calculation.\\\n",
    " Second, we can investigate what years are available in this dataset, how much of the dataset each year makes up, and begin investigating whether we should keep all years, or only specific years by visualizing trends in fare amounts when compared to trip duration and distance.\\\n",
    " For short trip durations, maybe the passenger changed their mind and cancelled the ride after some time.lets keep them.\\\n",
    "I remove outlier from dataset."
   ]
  },
  {
   "cell_type": "code",
   "execution_count": 37,
   "metadata": {},
   "outputs": [
    {
     "data": {
      "text/plain": [
       "(20758, 4)"
      ]
     },
     "execution_count": 37,
     "metadata": {},
     "output_type": "execute_result"
    }
   ],
   "source": [
    "df1=df[['id','speed','trip_distance','trip_duration']]\n",
    "df1.shape"
   ]
  },
  {
   "cell_type": "code",
   "execution_count": 38,
   "metadata": {},
   "outputs": [],
   "source": [
    "# Lets define a function to remove outlier\n",
    "\n",
    "def remove_outliers(data):\n",
    "\n",
    "        '''\n",
    "        Remove outliers from the dataset\n",
    "        \n",
    "        Parameters:\n",
    "        - data : Feature set / dataframe\n",
    "        '''\n",
    "        first_quartile = data.quantile(0.25)\n",
    "        third_quartile = data.quantile(0.75)\n",
    "        interquartile_range = third_quartile - first_quartile\n",
    "        #print(interquartile_range)\n",
    "        print('Before outlier removal, dataset dimension was :',data.shape)\n",
    "        data = data[~((data < (first_quartile - 3 * interquartile_range)) |(data > (third_quartile + 3 * interquartile_range))).any(axis=1)]\n",
    "        print('After outlier removal, dataset dimension was :',data.shape)\n",
    "        return data"
   ]
  },
  {
   "cell_type": "code",
   "execution_count": 39,
   "metadata": {},
   "outputs": [
    {
     "name": "stdout",
     "output_type": "stream",
     "text": [
      "Before outlier removal, dataset dimension was : (20758, 4)\n",
      "After outlier removal, dataset dimension was : (20617, 4)\n"
     ]
    }
   ],
   "source": [
    "df1 = remove_outliers(df1)"
   ]
  },
  {
   "cell_type": "code",
   "execution_count": 40,
   "metadata": {},
   "outputs": [],
   "source": [
    "# Lets keep only id column\n",
    "\n",
    "df1 = df1.drop(['trip_duration', 'speed','trip_distance'], axis=1)"
   ]
  },
  {
   "cell_type": "code",
   "execution_count": 41,
   "metadata": {},
   "outputs": [
    {
     "data": {
      "text/html": [
       "<div>\n",
       "<style scoped>\n",
       "    .dataframe tbody tr th:only-of-type {\n",
       "        vertical-align: middle;\n",
       "    }\n",
       "\n",
       "    .dataframe tbody tr th {\n",
       "        vertical-align: top;\n",
       "    }\n",
       "\n",
       "    .dataframe thead th {\n",
       "        text-align: right;\n",
       "    }\n",
       "</style>\n",
       "<table border=\"1\" class=\"dataframe\">\n",
       "  <thead>\n",
       "    <tr style=\"text-align: right;\">\n",
       "      <th></th>\n",
       "      <th>id</th>\n",
       "      <th>vendor_id</th>\n",
       "      <th>passenger_count</th>\n",
       "      <th>trip_distance</th>\n",
       "      <th>rate_code_id</th>\n",
       "      <th>store_and_fwd_flag</th>\n",
       "      <th>pu_location_id</th>\n",
       "      <th>do_location_id</th>\n",
       "      <th>payment_type</th>\n",
       "      <th>fare_amount</th>\n",
       "      <th>...</th>\n",
       "      <th>congestion_surcharge</th>\n",
       "      <th>airport_fee</th>\n",
       "      <th>hour</th>\n",
       "      <th>day</th>\n",
       "      <th>month</th>\n",
       "      <th>year</th>\n",
       "      <th>duration</th>\n",
       "      <th>trip_duration</th>\n",
       "      <th>speed</th>\n",
       "      <th>time_of_day</th>\n",
       "    </tr>\n",
       "  </thead>\n",
       "  <tbody>\n",
       "    <tr>\n",
       "      <th>0</th>\n",
       "      <td>26</td>\n",
       "      <td>2</td>\n",
       "      <td>1.0</td>\n",
       "      <td>27.728928</td>\n",
       "      <td>2.0</td>\n",
       "      <td>N</td>\n",
       "      <td>141</td>\n",
       "      <td>132</td>\n",
       "      <td>2</td>\n",
       "      <td>52.0</td>\n",
       "      <td>...</td>\n",
       "      <td>NaN</td>\n",
       "      <td>NaN</td>\n",
       "      <td>9</td>\n",
       "      <td>Monday</td>\n",
       "      <td>1</td>\n",
       "      <td>2018</td>\n",
       "      <td>00:30:19</td>\n",
       "      <td>0.505278</td>\n",
       "      <td>54.878582</td>\n",
       "      <td>Morning</td>\n",
       "    </tr>\n",
       "    <tr>\n",
       "      <th>1</th>\n",
       "      <td>87</td>\n",
       "      <td>1</td>\n",
       "      <td>1.0</td>\n",
       "      <td>15.449664</td>\n",
       "      <td>1.0</td>\n",
       "      <td>N</td>\n",
       "      <td>148</td>\n",
       "      <td>138</td>\n",
       "      <td>4</td>\n",
       "      <td>27.0</td>\n",
       "      <td>...</td>\n",
       "      <td>NaN</td>\n",
       "      <td>NaN</td>\n",
       "      <td>11</td>\n",
       "      <td>Monday</td>\n",
       "      <td>1</td>\n",
       "      <td>2018</td>\n",
       "      <td>00:14:10</td>\n",
       "      <td>0.236111</td>\n",
       "      <td>65.433871</td>\n",
       "      <td>Morning</td>\n",
       "    </tr>\n",
       "    <tr>\n",
       "      <th>2</th>\n",
       "      <td>101</td>\n",
       "      <td>2</td>\n",
       "      <td>1.0</td>\n",
       "      <td>35.051425</td>\n",
       "      <td>2.0</td>\n",
       "      <td>N</td>\n",
       "      <td>142</td>\n",
       "      <td>132</td>\n",
       "      <td>1</td>\n",
       "      <td>52.0</td>\n",
       "      <td>...</td>\n",
       "      <td>NaN</td>\n",
       "      <td>NaN</td>\n",
       "      <td>13</td>\n",
       "      <td>Monday</td>\n",
       "      <td>1</td>\n",
       "      <td>2018</td>\n",
       "      <td>00:33:47</td>\n",
       "      <td>0.563056</td>\n",
       "      <td>62.252161</td>\n",
       "      <td>Afternoon</td>\n",
       "    </tr>\n",
       "    <tr>\n",
       "      <th>3</th>\n",
       "      <td>108</td>\n",
       "      <td>2</td>\n",
       "      <td>1.0</td>\n",
       "      <td>27.519714</td>\n",
       "      <td>2.0</td>\n",
       "      <td>N</td>\n",
       "      <td>230</td>\n",
       "      <td>132</td>\n",
       "      <td>1</td>\n",
       "      <td>52.0</td>\n",
       "      <td>...</td>\n",
       "      <td>NaN</td>\n",
       "      <td>NaN</td>\n",
       "      <td>13</td>\n",
       "      <td>Monday</td>\n",
       "      <td>1</td>\n",
       "      <td>2018</td>\n",
       "      <td>00:32:39</td>\n",
       "      <td>0.544167</td>\n",
       "      <td>50.572216</td>\n",
       "      <td>Afternoon</td>\n",
       "    </tr>\n",
       "    <tr>\n",
       "      <th>4</th>\n",
       "      <td>133</td>\n",
       "      <td>1</td>\n",
       "      <td>2.0</td>\n",
       "      <td>16.576202</td>\n",
       "      <td>1.0</td>\n",
       "      <td>N</td>\n",
       "      <td>68</td>\n",
       "      <td>138</td>\n",
       "      <td>1</td>\n",
       "      <td>30.5</td>\n",
       "      <td>...</td>\n",
       "      <td>NaN</td>\n",
       "      <td>NaN</td>\n",
       "      <td>11</td>\n",
       "      <td>Monday</td>\n",
       "      <td>1</td>\n",
       "      <td>2018</td>\n",
       "      <td>00:22:55</td>\n",
       "      <td>0.381944</td>\n",
       "      <td>43.399511</td>\n",
       "      <td>Morning</td>\n",
       "    </tr>\n",
       "  </tbody>\n",
       "</table>\n",
       "<p>5 rows × 26 columns</p>\n",
       "</div>"
      ],
      "text/plain": [
       "    id  vendor_id  passenger_count  trip_distance  rate_code_id  \\\n",
       "0   26          2              1.0      27.728928           2.0   \n",
       "1   87          1              1.0      15.449664           1.0   \n",
       "2  101          2              1.0      35.051425           2.0   \n",
       "3  108          2              1.0      27.519714           2.0   \n",
       "4  133          1              2.0      16.576202           1.0   \n",
       "\n",
       "  store_and_fwd_flag  pu_location_id  do_location_id  payment_type  \\\n",
       "0                  N             141             132             2   \n",
       "1                  N             148             138             4   \n",
       "2                  N             142             132             1   \n",
       "3                  N             230             132             1   \n",
       "4                  N              68             138             1   \n",
       "\n",
       "   fare_amount  ...  congestion_surcharge  airport_fee  hour     day  month  \\\n",
       "0         52.0  ...                   NaN          NaN     9  Monday      1   \n",
       "1         27.0  ...                   NaN          NaN    11  Monday      1   \n",
       "2         52.0  ...                   NaN          NaN    13  Monday      1   \n",
       "3         52.0  ...                   NaN          NaN    13  Monday      1   \n",
       "4         30.5  ...                   NaN          NaN    11  Monday      1   \n",
       "\n",
       "   year  duration  trip_duration      speed time_of_day  \n",
       "0  2018  00:30:19       0.505278  54.878582     Morning  \n",
       "1  2018  00:14:10       0.236111  65.433871     Morning  \n",
       "2  2018  00:33:47       0.563056  62.252161   Afternoon  \n",
       "3  2018  00:32:39       0.544167  50.572216   Afternoon  \n",
       "4  2018  00:22:55       0.381944  43.399511     Morning  \n",
       "\n",
       "[5 rows x 26 columns]"
      ]
     },
     "execution_count": 41,
     "metadata": {},
     "output_type": "execute_result"
    }
   ],
   "source": [
    "df = pd.merge(df1, df, on=['id'], how='left')\n",
    "df.head()"
   ]
  },
  {
   "cell_type": "code",
   "execution_count": 42,
   "metadata": {},
   "outputs": [
    {
     "data": {
      "text/plain": [
       "count    20617.000000\n",
       "mean        21.389591\n",
       "std          8.841336\n",
       "min          0.016093\n",
       "25%         14.966862\n",
       "50%         19.762695\n",
       "75%         28.694532\n",
       "max         69.378647\n",
       "Name: trip_distance, dtype: float64"
      ]
     },
     "execution_count": 42,
     "metadata": {},
     "output_type": "execute_result"
    },
    {
     "data": {
      "image/png": "[encoded data removed]",
      "text/plain": [
       "<Figure size 432x288 with 1 Axes>"
      ]
     },
     "metadata": {},
     "output_type": "display_data"
    }
   ],
   "source": [
    "# Let's now have a look on the distribution of the distance\n",
    "\n",
    "sns.boxplot(data = df.trip_distance)\n",
    "df.trip_distance.describe()"
   ]
  },
  {
   "cell_type": "code",
   "execution_count": 43,
   "metadata": {},
   "outputs": [
    {
     "data": {
      "text/plain": [
       "count    20617.000000\n",
       "mean         0.588031\n",
       "std          0.282211\n",
       "min          0.000833\n",
       "25%          0.388889\n",
       "50%          0.545833\n",
       "75%          0.747778\n",
       "max          1.816667\n",
       "Name: trip_duration, dtype: float64"
      ]
     },
     "execution_count": 43,
     "metadata": {},
     "output_type": "execute_result"
    },
    {
     "data": {
      "image/png": "[encoded data removed]",
      "text/plain": [
       "<Figure size 432x288 with 1 Axes>"
      ]
     },
     "metadata": {},
     "output_type": "display_data"
    }
   ],
   "source": [
    "# Lets check trip_duration \n",
    "\n",
    "sns.boxplot(data = df.trip_duration)\n",
    "df.trip_duration.describe()"
   ]
  },
  {
   "cell_type": "code",
   "execution_count": 44,
   "metadata": {},
   "outputs": [
    {
     "data": {
      "text/plain": [
       "count    20617.000000\n",
       "mean        39.302747\n",
       "std         13.691821\n",
       "min          0.060193\n",
       "25%         29.048069\n",
       "50%         37.789687\n",
       "75%         48.193365\n",
       "max        105.708227\n",
       "Name: speed, dtype: float64"
      ]
     },
     "execution_count": 44,
     "metadata": {},
     "output_type": "execute_result"
    },
    {
     "data": {
      "image/png": "[encoded data removed]",
      "text/plain": [
       "<Figure size 432x288 with 1 Axes>"
      ]
     },
     "metadata": {},
     "output_type": "display_data"
    }
   ],
   "source": [
    "# Lets check speed \n",
    "\n",
    "sns.boxplot(data = df.speed)\n",
    "df.speed.describe()"
   ]
  },
  {
   "cell_type": "code",
   "execution_count": 45,
   "metadata": {},
   "outputs": [
    {
     "name": "stdout",
     "output_type": "stream",
     "text": [
      "[2018 2019 2020 2021 2022 2023]\n"
     ]
    }
   ],
   "source": [
    "# Lets check years\n",
    "\n",
    "list_of_years = df.year.unique()\n",
    "print(list_of_years)"
   ]
  },
  {
   "cell_type": "code",
   "execution_count": 46,
   "metadata": {},
   "outputs": [
    {
     "name": "stdout",
     "output_type": "stream",
     "text": [
      "2018 makes up 21 % of the dataset\n",
      "2019 makes up 22 % of the dataset\n",
      "2020 makes up 11 % of the dataset\n",
      "2021 makes up 17 % of the dataset\n",
      "2022 makes up 27 % of the dataset\n",
      "2023 makes up 2 % of the dataset\n"
     ]
    }
   ],
   "source": [
    "# Lets see the distribution of year(%)\n",
    "\n",
    "for year in list_of_years:\n",
    "    year_amount = df[df['year'] == year].shape[0]\n",
    "    total_amount = df.shape[0]\n",
    "    \n",
    "    print(f\"{year} makes up {round((year_amount / total_amount) * 100)} % of the dataset\")"
   ]
  },
  {
   "cell_type": "markdown",
   "metadata": {},
   "source": [
    "it seems we can keep all years but it's better to remove data of 2023."
   ]
  },
  {
   "cell_type": "code",
   "execution_count": 47,
   "metadata": {},
   "outputs": [
    {
     "name": "stdout",
     "output_type": "stream",
     "text": [
      "[2018 2019 2020 2021 2022]\n"
     ]
    }
   ],
   "source": [
    "# Lets remove the year 2023\n",
    "\n",
    "df= df[df['year'] != 2023]\n",
    "list_of_years = df.year.unique()\n",
    "print(list_of_years)"
   ]
  },
  {
   "cell_type": "markdown",
   "metadata": {},
   "source": [
    "Lets Calculate total amounts and drop rows whose values don't \"add up\"..."
   ]
  },
  {
   "cell_type": "code",
   "execution_count": 48,
   "metadata": {},
   "outputs": [
    {
     "data": {
      "text/html": [
       "<div>\n",
       "<style scoped>\n",
       "    .dataframe tbody tr th:only-of-type {\n",
       "        vertical-align: middle;\n",
       "    }\n",
       "\n",
       "    .dataframe tbody tr th {\n",
       "        vertical-align: top;\n",
       "    }\n",
       "\n",
       "    .dataframe thead th {\n",
       "        text-align: right;\n",
       "    }\n",
       "</style>\n",
       "<table border=\"1\" class=\"dataframe\">\n",
       "  <thead>\n",
       "    <tr style=\"text-align: right;\">\n",
       "      <th></th>\n",
       "      <th>total_amount</th>\n",
       "      <th>calculated_total_amount</th>\n",
       "    </tr>\n",
       "  </thead>\n",
       "  <tbody>\n",
       "    <tr>\n",
       "      <th>0</th>\n",
       "      <td>52.80</td>\n",
       "      <td>52.80</td>\n",
       "    </tr>\n",
       "    <tr>\n",
       "      <th>1</th>\n",
       "      <td>27.80</td>\n",
       "      <td>27.80</td>\n",
       "    </tr>\n",
       "    <tr>\n",
       "      <th>2</th>\n",
       "      <td>66.56</td>\n",
       "      <td>66.56</td>\n",
       "    </tr>\n",
       "    <tr>\n",
       "      <th>3</th>\n",
       "      <td>64.56</td>\n",
       "      <td>64.56</td>\n",
       "    </tr>\n",
       "    <tr>\n",
       "      <th>4</th>\n",
       "      <td>37.06</td>\n",
       "      <td>37.06</td>\n",
       "    </tr>\n",
       "  </tbody>\n",
       "</table>\n",
       "</div>"
      ],
      "text/plain": [
       "   total_amount  calculated_total_amount\n",
       "0         52.80                    52.80\n",
       "1         27.80                    27.80\n",
       "2         66.56                    66.56\n",
       "3         64.56                    64.56\n",
       "4         37.06                    37.06"
      ]
     },
     "execution_count": 48,
     "metadata": {},
     "output_type": "execute_result"
    }
   ],
   "source": [
    "fare = df['fare_amount'].values\n",
    "extra = np.add(fare, df['extra'].values)\n",
    "mta_tax = np.add(extra, df['mta_tax'].values)\n",
    "tip_amount = np.add(mta_tax, df['tip_amount'].values)\n",
    "imp_surcharge = np.add(tip_amount, df['improvement_surcharge'].values)\n",
    "calculated_total_amount = np.add(imp_surcharge, df['tolls_amount'].values)\n",
    "\n",
    "df['calculated_total_amount'] = pd.Series(calculated_total_amount)\n",
    "# validate calculated total by manually adding all relevant columns and comparing to the calculated column\n",
    "df[{'calculated_total_amount', 'total_amount'}].head()\n"
   ]
  },
  {
   "cell_type": "markdown",
   "metadata": {},
   "source": [
    "Lets drop anything that isn't correct"
   ]
  },
  {
   "cell_type": "code",
   "execution_count": 49,
   "metadata": {
    "scrolled": false
   },
   "outputs": [
    {
     "data": {
      "text/html": [
       "<div>\n",
       "<style scoped>\n",
       "    .dataframe tbody tr th:only-of-type {\n",
       "        vertical-align: middle;\n",
       "    }\n",
       "\n",
       "    .dataframe tbody tr th {\n",
       "        vertical-align: top;\n",
       "    }\n",
       "\n",
       "    .dataframe thead th {\n",
       "        text-align: right;\n",
       "    }\n",
       "</style>\n",
       "<table border=\"1\" class=\"dataframe\">\n",
       "  <thead>\n",
       "    <tr style=\"text-align: right;\">\n",
       "      <th></th>\n",
       "      <th>id</th>\n",
       "      <th>vendor_id</th>\n",
       "      <th>passenger_count</th>\n",
       "      <th>trip_distance</th>\n",
       "      <th>rate_code_id</th>\n",
       "      <th>store_and_fwd_flag</th>\n",
       "      <th>pu_location_id</th>\n",
       "      <th>do_location_id</th>\n",
       "      <th>payment_type</th>\n",
       "      <th>fare_amount</th>\n",
       "      <th>...</th>\n",
       "      <th>airport_fee</th>\n",
       "      <th>hour</th>\n",
       "      <th>day</th>\n",
       "      <th>month</th>\n",
       "      <th>year</th>\n",
       "      <th>duration</th>\n",
       "      <th>trip_duration</th>\n",
       "      <th>speed</th>\n",
       "      <th>time_of_day</th>\n",
       "      <th>calculated_total_amount</th>\n",
       "    </tr>\n",
       "  </thead>\n",
       "  <tbody>\n",
       "    <tr>\n",
       "      <th>7</th>\n",
       "      <td>242</td>\n",
       "      <td>2</td>\n",
       "      <td>5.0</td>\n",
       "      <td>27.036912</td>\n",
       "      <td>2.0</td>\n",
       "      <td>N</td>\n",
       "      <td>186</td>\n",
       "      <td>132</td>\n",
       "      <td>2</td>\n",
       "      <td>52.0</td>\n",
       "      <td>...</td>\n",
       "      <td>NaN</td>\n",
       "      <td>1</td>\n",
       "      <td>Tuesday</td>\n",
       "      <td>1</td>\n",
       "      <td>2018</td>\n",
       "      <td>00:25:36</td>\n",
       "      <td>0.426667</td>\n",
       "      <td>63.367762</td>\n",
       "      <td>Late night</td>\n",
       "      <td>58.56</td>\n",
       "    </tr>\n",
       "    <tr>\n",
       "      <th>8</th>\n",
       "      <td>309</td>\n",
       "      <td>2</td>\n",
       "      <td>1.0</td>\n",
       "      <td>17.573993</td>\n",
       "      <td>1.0</td>\n",
       "      <td>N</td>\n",
       "      <td>163</td>\n",
       "      <td>138</td>\n",
       "      <td>1</td>\n",
       "      <td>36.0</td>\n",
       "      <td>...</td>\n",
       "      <td>NaN</td>\n",
       "      <td>9</td>\n",
       "      <td>Wednesday</td>\n",
       "      <td>1</td>\n",
       "      <td>2018</td>\n",
       "      <td>00:33:07</td>\n",
       "      <td>0.551944</td>\n",
       "      <td>31.840148</td>\n",
       "      <td>Morning</td>\n",
       "      <td>44.56</td>\n",
       "    </tr>\n",
       "    <tr>\n",
       "      <th>9</th>\n",
       "      <td>350</td>\n",
       "      <td>2</td>\n",
       "      <td>1.0</td>\n",
       "      <td>16.753229</td>\n",
       "      <td>1.0</td>\n",
       "      <td>N</td>\n",
       "      <td>141</td>\n",
       "      <td>138</td>\n",
       "      <td>1</td>\n",
       "      <td>31.0</td>\n",
       "      <td>...</td>\n",
       "      <td>NaN</td>\n",
       "      <td>16</td>\n",
       "      <td>Wednesday</td>\n",
       "      <td>1</td>\n",
       "      <td>2018</td>\n",
       "      <td>00:37:39</td>\n",
       "      <td>0.627500</td>\n",
       "      <td>26.698374</td>\n",
       "      <td>Evening</td>\n",
       "      <td>46.27</td>\n",
       "    </tr>\n",
       "    <tr>\n",
       "      <th>10</th>\n",
       "      <td>354</td>\n",
       "      <td>2</td>\n",
       "      <td>1.0</td>\n",
       "      <td>27.680648</td>\n",
       "      <td>2.0</td>\n",
       "      <td>N</td>\n",
       "      <td>229</td>\n",
       "      <td>132</td>\n",
       "      <td>1</td>\n",
       "      <td>52.0</td>\n",
       "      <td>...</td>\n",
       "      <td>NaN</td>\n",
       "      <td>5</td>\n",
       "      <td>Wednesday</td>\n",
       "      <td>1</td>\n",
       "      <td>2018</td>\n",
       "      <td>00:29:41</td>\n",
       "      <td>0.494722</td>\n",
       "      <td>55.951899</td>\n",
       "      <td>Late night</td>\n",
       "      <td>70.27</td>\n",
       "    </tr>\n",
       "    <tr>\n",
       "      <th>11</th>\n",
       "      <td>359</td>\n",
       "      <td>2</td>\n",
       "      <td>4.0</td>\n",
       "      <td>27.149566</td>\n",
       "      <td>2.0</td>\n",
       "      <td>N</td>\n",
       "      <td>100</td>\n",
       "      <td>132</td>\n",
       "      <td>1</td>\n",
       "      <td>52.0</td>\n",
       "      <td>...</td>\n",
       "      <td>NaN</td>\n",
       "      <td>4</td>\n",
       "      <td>Wednesday</td>\n",
       "      <td>1</td>\n",
       "      <td>2018</td>\n",
       "      <td>00:25:29</td>\n",
       "      <td>0.424722</td>\n",
       "      <td>63.923111</td>\n",
       "      <td>Late night</td>\n",
       "      <td>70.27</td>\n",
       "    </tr>\n",
       "  </tbody>\n",
       "</table>\n",
       "<p>5 rows × 27 columns</p>\n",
       "</div>"
      ],
      "text/plain": [
       "     id  vendor_id  passenger_count  trip_distance  rate_code_id  \\\n",
       "7   242          2              5.0      27.036912           2.0   \n",
       "8   309          2              1.0      17.573993           1.0   \n",
       "9   350          2              1.0      16.753229           1.0   \n",
       "10  354          2              1.0      27.680648           2.0   \n",
       "11  359          2              4.0      27.149566           2.0   \n",
       "\n",
       "   store_and_fwd_flag  pu_location_id  do_location_id  payment_type  \\\n",
       "7                   N             186             132             2   \n",
       "8                   N             163             138             1   \n",
       "9                   N             141             138             1   \n",
       "10                  N             229             132             1   \n",
       "11                  N             100             132             1   \n",
       "\n",
       "    fare_amount  ...  airport_fee  hour        day  month  year  duration  \\\n",
       "7          52.0  ...          NaN     1    Tuesday      1  2018  00:25:36   \n",
       "8          36.0  ...          NaN     9  Wednesday      1  2018  00:33:07   \n",
       "9          31.0  ...          NaN    16  Wednesday      1  2018  00:37:39   \n",
       "10         52.0  ...          NaN     5  Wednesday      1  2018  00:29:41   \n",
       "11         52.0  ...          NaN     4  Wednesday      1  2018  00:25:29   \n",
       "\n",
       "    trip_duration      speed  time_of_day calculated_total_amount  \n",
       "7        0.426667  63.367762   Late night                   58.56  \n",
       "8        0.551944  31.840148      Morning                   44.56  \n",
       "9        0.627500  26.698374      Evening                   46.27  \n",
       "10       0.494722  55.951899   Late night                   70.27  \n",
       "11       0.424722  63.923111   Late night                   70.27  \n",
       "\n",
       "[5 rows x 27 columns]"
      ]
     },
     "execution_count": 49,
     "metadata": {},
     "output_type": "execute_result"
    }
   ],
   "source": [
    "df = df[df['total_amount'] != df['calculated_total_amount']]\n",
    "df.head()"
   ]
  },
  {
   "cell_type": "code",
   "execution_count": 50,
   "metadata": {},
   "outputs": [
    {
     "data": {
      "text/html": [
       "<div>\n",
       "<style scoped>\n",
       "    .dataframe tbody tr th:only-of-type {\n",
       "        vertical-align: middle;\n",
       "    }\n",
       "\n",
       "    .dataframe tbody tr th {\n",
       "        vertical-align: top;\n",
       "    }\n",
       "\n",
       "    .dataframe thead th {\n",
       "        text-align: right;\n",
       "    }\n",
       "</style>\n",
       "<table border=\"1\" class=\"dataframe\">\n",
       "  <thead>\n",
       "    <tr style=\"text-align: right;\">\n",
       "      <th></th>\n",
       "      <th>id</th>\n",
       "      <th>vendor_id</th>\n",
       "      <th>passenger_count</th>\n",
       "      <th>trip_distance</th>\n",
       "      <th>rate_code_id</th>\n",
       "      <th>store_and_fwd_flag</th>\n",
       "      <th>pu_location_id</th>\n",
       "      <th>do_location_id</th>\n",
       "      <th>payment_type</th>\n",
       "      <th>tip_amount</th>\n",
       "      <th>total_amount</th>\n",
       "      <th>hour</th>\n",
       "      <th>day</th>\n",
       "      <th>month</th>\n",
       "      <th>year</th>\n",
       "      <th>trip_duration</th>\n",
       "      <th>speed</th>\n",
       "      <th>time_of_day</th>\n",
       "    </tr>\n",
       "  </thead>\n",
       "  <tbody>\n",
       "    <tr>\n",
       "      <th>7</th>\n",
       "      <td>242</td>\n",
       "      <td>2</td>\n",
       "      <td>5.0</td>\n",
       "      <td>27.036912</td>\n",
       "      <td>2.0</td>\n",
       "      <td>N</td>\n",
       "      <td>186</td>\n",
       "      <td>132</td>\n",
       "      <td>2</td>\n",
       "      <td>0.00</td>\n",
       "      <td>58.56</td>\n",
       "      <td>1</td>\n",
       "      <td>Tuesday</td>\n",
       "      <td>1</td>\n",
       "      <td>2018</td>\n",
       "      <td>0.426667</td>\n",
       "      <td>63.367762</td>\n",
       "      <td>Late night</td>\n",
       "    </tr>\n",
       "    <tr>\n",
       "      <th>8</th>\n",
       "      <td>309</td>\n",
       "      <td>2</td>\n",
       "      <td>1.0</td>\n",
       "      <td>17.573993</td>\n",
       "      <td>1.0</td>\n",
       "      <td>N</td>\n",
       "      <td>163</td>\n",
       "      <td>138</td>\n",
       "      <td>1</td>\n",
       "      <td>2.00</td>\n",
       "      <td>44.56</td>\n",
       "      <td>9</td>\n",
       "      <td>Wednesday</td>\n",
       "      <td>1</td>\n",
       "      <td>2018</td>\n",
       "      <td>0.551944</td>\n",
       "      <td>31.840148</td>\n",
       "      <td>Morning</td>\n",
       "    </tr>\n",
       "    <tr>\n",
       "      <th>9</th>\n",
       "      <td>350</td>\n",
       "      <td>2</td>\n",
       "      <td>1.0</td>\n",
       "      <td>16.753229</td>\n",
       "      <td>1.0</td>\n",
       "      <td>N</td>\n",
       "      <td>141</td>\n",
       "      <td>138</td>\n",
       "      <td>1</td>\n",
       "      <td>7.71</td>\n",
       "      <td>46.27</td>\n",
       "      <td>16</td>\n",
       "      <td>Wednesday</td>\n",
       "      <td>1</td>\n",
       "      <td>2018</td>\n",
       "      <td>0.627500</td>\n",
       "      <td>26.698374</td>\n",
       "      <td>Evening</td>\n",
       "    </tr>\n",
       "    <tr>\n",
       "      <th>10</th>\n",
       "      <td>354</td>\n",
       "      <td>2</td>\n",
       "      <td>1.0</td>\n",
       "      <td>27.680648</td>\n",
       "      <td>2.0</td>\n",
       "      <td>N</td>\n",
       "      <td>229</td>\n",
       "      <td>132</td>\n",
       "      <td>1</td>\n",
       "      <td>11.71</td>\n",
       "      <td>70.27</td>\n",
       "      <td>5</td>\n",
       "      <td>Wednesday</td>\n",
       "      <td>1</td>\n",
       "      <td>2018</td>\n",
       "      <td>0.494722</td>\n",
       "      <td>55.951899</td>\n",
       "      <td>Late night</td>\n",
       "    </tr>\n",
       "    <tr>\n",
       "      <th>11</th>\n",
       "      <td>359</td>\n",
       "      <td>2</td>\n",
       "      <td>4.0</td>\n",
       "      <td>27.149566</td>\n",
       "      <td>2.0</td>\n",
       "      <td>N</td>\n",
       "      <td>100</td>\n",
       "      <td>132</td>\n",
       "      <td>1</td>\n",
       "      <td>11.71</td>\n",
       "      <td>70.27</td>\n",
       "      <td>4</td>\n",
       "      <td>Wednesday</td>\n",
       "      <td>1</td>\n",
       "      <td>2018</td>\n",
       "      <td>0.424722</td>\n",
       "      <td>63.923111</td>\n",
       "      <td>Late night</td>\n",
       "    </tr>\n",
       "  </tbody>\n",
       "</table>\n",
       "</div>"
      ],
      "text/plain": [
       "     id  vendor_id  passenger_count  trip_distance  rate_code_id  \\\n",
       "7   242          2              5.0      27.036912           2.0   \n",
       "8   309          2              1.0      17.573993           1.0   \n",
       "9   350          2              1.0      16.753229           1.0   \n",
       "10  354          2              1.0      27.680648           2.0   \n",
       "11  359          2              4.0      27.149566           2.0   \n",
       "\n",
       "   store_and_fwd_flag  pu_location_id  do_location_id  payment_type  \\\n",
       "7                   N             186             132             2   \n",
       "8                   N             163             138             1   \n",
       "9                   N             141             138             1   \n",
       "10                  N             229             132             1   \n",
       "11                  N             100             132             1   \n",
       "\n",
       "    tip_amount  total_amount  hour        day  month  year  trip_duration  \\\n",
       "7         0.00         58.56     1    Tuesday      1  2018       0.426667   \n",
       "8         2.00         44.56     9  Wednesday      1  2018       0.551944   \n",
       "9         7.71         46.27    16  Wednesday      1  2018       0.627500   \n",
       "10       11.71         70.27     5  Wednesday      1  2018       0.494722   \n",
       "11       11.71         70.27     4  Wednesday      1  2018       0.424722   \n",
       "\n",
       "        speed time_of_day  \n",
       "7   63.367762  Late night  \n",
       "8   31.840148     Morning  \n",
       "9   26.698374     Evening  \n",
       "10  55.951899  Late night  \n",
       "11  63.923111  Late night  "
      ]
     },
     "execution_count": 50,
     "metadata": {},
     "output_type": "execute_result"
    }
   ],
   "source": [
    "# Let's drop unnecessary columns\n",
    "\n",
    "df.drop(['fare_amount', 'extra','mta_tax','tolls_amount','improvement_surcharge','congestion_surcharge','duration','calculated_total_amount','airport_fee'], axis=1, inplace=True)\n",
    "df.head()"
   ]
  },
  {
   "cell_type": "markdown",
   "metadata": {},
   "source": [
    "<a id=univariate></a>\n",
    "# Univariate Analysis"
   ]
  },
  {
   "cell_type": "markdown",
   "metadata": {},
   "source": [
    "<a id='overview'></a>\n",
    "## Overall Overview"
   ]
  },
  {
   "cell_type": "code",
   "execution_count": 51,
   "metadata": {},
   "outputs": [],
   "source": [
    "# Lets define again dataframe for trips fram the airports and to the airports from\n",
    "\n",
    "to_airport = df.loc[df['do_location_id'].isin([1,132,138])]\n",
    "from_airport = df.loc[df['pu_location_id'].isin([1,132,138])]"
   ]
  },
  {
   "cell_type": "code",
   "execution_count": 52,
   "metadata": {},
   "outputs": [
    {
     "name": "stdout",
     "output_type": "stream",
     "text": [
      "There are 15203 rides from Airports.\n",
      "There are 3305 rides to Airports.\n"
     ]
    }
   ],
   "source": [
    "#lets look at the data:\n",
    "\n",
    "print( f\"There are {from_airport.shape[0]} rides from Airports.\")\n",
    "print( f\"There are {to_airport.shape[0]} rides to Airports.\")"
   ]
  },
  {
   "cell_type": "markdown",
   "metadata": {},
   "source": [
    "it shows people used more taxi when travel to New York (pick up location is airports).\n"
   ]
  },
  {
   "cell_type": "code",
   "execution_count": 53,
   "metadata": {
    "scrolled": true
   },
   "outputs": [
    {
     "data": {
      "image/png": "[encoded data removed]",
      "text/plain": [
       "<Figure size 1440x360 with 2 Axes>"
      ]
     },
     "metadata": {},
     "output_type": "display_data"
    }
   ],
   "source": [
    "# Lets plot the number of trips in airports\n",
    "\n",
    "figure,(ax7,ax8)=plt.subplots(ncols=2,figsize=(20,5))\n",
    "\n",
    "ax =sns.countplot(x='pu_location_id',data=from_airport,ax=ax7)\n",
    "ax7.set_title('Trips from Airport')\n",
    "for p in ax.patches:\n",
    "   ax.annotate('{:.1f}'.format(p.get_height()), (p.get_x()+0.25, p.get_height()+0.01))\n",
    "\n",
    "\n",
    "ax=sns.countplot(x='do_location_id',data=to_airport,ax=ax8 )\n",
    "ax8.set_title('Trips to Airport')\n",
    "for p in ax.patches:\n",
    "   ax.annotate('{:.1f}'.format(p.get_height()), (p.get_x()+0.25, p.get_height()+0.01))\n"
   ]
  },
  {
   "cell_type": "markdown",
   "metadata": {},
   "source": [
    "we can see above: \n",
    "Most taxi rides to airports have a drop off location in LaGuardia Airport (zone 138) and most taxi rides from airports have a pick up location in JFK Airport (zone 132)\n",
    "\n",
    "This finding suggests that JFK Airport is a popular destination for taxi drop-offs, while LaGuardia Airport is frequently used as a starting point for taxi rides. Understanding these patterns can help in optimizing taxi services and anticipating the demand at specific airport locations."
   ]
  },
  {
   "cell_type": "markdown",
   "metadata": {},
   "source": [
    "<a id='airport'></a>\n",
    "##  Airport to Airport"
   ]
  },
  {
   "cell_type": "code",
   "execution_count": 54,
   "metadata": {},
   "outputs": [],
   "source": [
    "# Lets select dataframe for trips between airports\n",
    "\n",
    "A2A= from_airport.loc[from_airport['do_location_id'].isin([1,132,138])]\n"
   ]
  },
  {
   "cell_type": "code",
   "execution_count": 55,
   "metadata": {},
   "outputs": [
    {
     "name": "stdout",
     "output_type": "stream",
     "text": [
      "There are 174 rides between two Airports.\n"
     ]
    }
   ],
   "source": [
    "#lets look at the data:\n",
    "\n",
    "print( f\"There are {A2A.shape[0]} rides between two Airports.\")"
   ]
  },
  {
   "cell_type": "markdown",
   "metadata": {},
   "source": [
    "This indicates instances where passengers have traveled directly between the airports, highlighting the need for transportation services catering to inter-airport travel."
   ]
  },
  {
   "cell_type": "markdown",
   "metadata": {},
   "source": [
    "<a id='distance'></a>\n",
    "## Distance"
   ]
  },
  {
   "cell_type": "code",
   "execution_count": 56,
   "metadata": {},
   "outputs": [
    {
     "data": {
      "text/plain": [
       "count    18334.000000\n",
       "mean        21.369387\n",
       "std          8.698619\n",
       "min          0.016093\n",
       "25%         14.966862\n",
       "50%         19.473014\n",
       "75%         28.710626\n",
       "max         69.378647\n",
       "Name: trip_distance, dtype: float64"
      ]
     },
     "execution_count": 56,
     "metadata": {},
     "output_type": "execute_result"
    }
   ],
   "source": [
    "df.trip_distance.describe()"
   ]
  },
  {
   "cell_type": "code",
   "execution_count": 57,
   "metadata": {},
   "outputs": [
    {
     "data": {
      "image/png": "[encoded data removed]",
      "text/plain": [
       "<Figure size 432x288 with 1 Axes>"
      ]
     },
     "metadata": {},
     "output_type": "display_data"
    }
   ],
   "source": [
    "df.trip_distance.groupby(pd.cut(df.trip_distance, np.arange(0,76,15))).count().plot(kind='barh')\n",
    "plt.xlabel('Trip Counts')\n",
    "plt.ylabel('Trip Distance (Km)')\n",
    "plt.xticks(rotation=50)\n",
    "plt.show()"
   ]
  },
  {
   "cell_type": "markdown",
   "metadata": {},
   "source": [
    "From the above observation it is evident that most of the rides are completed between 15-30 Km."
   ]
  },
  {
   "cell_type": "markdown",
   "metadata": {},
   "source": [
    "<a id=vendor></a>\n",
    "## Vendor"
   ]
  },
  {
   "cell_type": "code",
   "execution_count": 58,
   "metadata": {},
   "outputs": [
    {
     "data": {
      "text/plain": [
       "<matplotlib.axes._subplots.AxesSubplot at 0x223864ef888>"
      ]
     },
     "execution_count": 58,
     "metadata": {},
     "output_type": "execute_result"
    },
    {
     "data": {
      "image/png": "[encoded data removed]",
      "text/plain": [
       "<Figure size 432x288 with 1 Axes>"
      ]
     },
     "metadata": {},
     "output_type": "display_data"
    }
   ],
   "source": [
    "# Lets compare two vendors\n",
    "\n",
    "sns.countplot(x='vendor_id',data=df)"
   ]
  },
  {
   "cell_type": "markdown",
   "metadata": {},
   "source": [
    "We see that the number of trips taken by vendor 2 (VeriFone Inc) is more than vendor 1 (Creative Mobile Technologies, LLC)."
   ]
  },
  {
   "cell_type": "markdown",
   "metadata": {},
   "source": [
    "<a id=passenger></a>\n",
    "## Passengers"
   ]
  },
  {
   "cell_type": "code",
   "execution_count": 59,
   "metadata": {},
   "outputs": [
    {
     "data": {
      "text/plain": [
       "<matplotlib.axes._subplots.AxesSubplot at 0x2238654db08>"
      ]
     },
     "execution_count": 59,
     "metadata": {},
     "output_type": "execute_result"
    },
    {
     "data": {
      "image/png": "[encoded data removed]",
      "text/plain": [
       "<Figure size 432x288 with 1 Axes>"
      ]
     },
     "metadata": {},
     "output_type": "display_data"
    }
   ],
   "source": [
    "# Lets see the distribution of passenger_count\n",
    "\n",
    "sns.countplot(x='passenger_count', data=df)"
   ]
  },
  {
   "cell_type": "markdown",
   "metadata": {},
   "source": [
    "From above plot we can observe that the single passenger rides were highest."
   ]
  },
  {
   "cell_type": "markdown",
   "metadata": {},
   "source": [
    "<a id='rate'></a>\n",
    "## Rate Code"
   ]
  },
  {
   "cell_type": "code",
   "execution_count": 60,
   "metadata": {},
   "outputs": [
    {
     "data": {
      "text/plain": [
       "<matplotlib.axes._subplots.AxesSubplot at 0x223865bdac8>"
      ]
     },
     "execution_count": 60,
     "metadata": {},
     "output_type": "execute_result"
    },
    {
     "data": {
      "image/png": "[encoded data removed]",
      "text/plain": [
       "<Figure size 432x288 with 1 Axes>"
      ]
     },
     "metadata": {},
     "output_type": "display_data"
    }
   ],
   "source": [
    "# Lets plot the rate_code_id\n",
    "\n",
    "sns.countplot(x='rate_code_id', data=df)"
   ]
  },
  {
   "cell_type": "markdown",
   "metadata": {},
   "source": [
    "We can clearly see that rate_code_id 1 i.e., standard rate is overwhelmingly more than others."
   ]
  },
  {
   "cell_type": "markdown",
   "metadata": {},
   "source": [
    "<a id='flag'></a>\n",
    "## Store and Forward Flag"
   ]
  },
  {
   "cell_type": "code",
   "execution_count": 61,
   "metadata": {},
   "outputs": [
    {
     "data": {
      "text/plain": [
       "N    0.991709\n",
       "Y    0.008291\n",
       "Name: store_and_fwd_flag, dtype: float64"
      ]
     },
     "execution_count": 61,
     "metadata": {},
     "output_type": "execute_result"
    }
   ],
   "source": [
    "df['store_and_fwd_flag'].value_counts(normalize=True)"
   ]
  },
  {
   "cell_type": "markdown",
   "metadata": {},
   "source": [
    "We see there are less than 1% of trips that were stored before forwarding."
   ]
  },
  {
   "cell_type": "markdown",
   "metadata": {},
   "source": [
    "<a id='speed'></a>\n",
    "## Speed"
   ]
  },
  {
   "cell_type": "markdown",
   "metadata": {},
   "source": [
    "Maximum speed limit in NYC is as follows:\n",
    "\n",
    "* 25 mph in urban area i.e. 40 km/h\n",
    "* 65 mph on controlled state highways i.e. approx 104 km/h\n"
   ]
  },
  {
   "cell_type": "code",
   "execution_count": 62,
   "metadata": {},
   "outputs": [
    {
     "data": {
      "text/plain": [
       "count    18334.000000\n",
       "mean        39.190353\n",
       "std         13.512274\n",
       "min          0.112225\n",
       "25%         29.026746\n",
       "50%         37.633336\n",
       "75%         47.881778\n",
       "max        105.708227\n",
       "Name: speed, dtype: float64"
      ]
     },
     "execution_count": 62,
     "metadata": {},
     "output_type": "execute_result"
    }
   ],
   "source": [
    "df.speed.describe()"
   ]
  },
  {
   "cell_type": "code",
   "execution_count": 63,
   "metadata": {},
   "outputs": [
    {
     "data": {
      "image/png": "[encoded data removed]",
      "text/plain": [
       "<Figure size 432x288 with 1 Axes>"
      ]
     },
     "metadata": {},
     "output_type": "display_data"
    }
   ],
   "source": [
    "# Let's take a look at the speed range distribution \n",
    "\n",
    "df.speed.groupby(pd.cut(df.speed, np.arange(0,111,10))).count().plot(kind = 'barh')\n",
    "plt.xlabel('Trip count')\n",
    "plt.ylabel('Speed (Km/H)')\n",
    "plt.xticks(rotation=50)\n",
    "plt.show()"
   ]
  },
  {
   "cell_type": "markdown",
   "metadata": {},
   "source": [
    "Mostly trips are done at a speed range of 30-40 km/h.\n"
   ]
  },
  {
   "cell_type": "markdown",
   "metadata": {},
   "source": [
    "<a id='duration'></a>\n",
    "## Trip Duration"
   ]
  },
  {
   "cell_type": "code",
   "execution_count": 64,
   "metadata": {},
   "outputs": [
    {
     "data": {
      "text/plain": [
       "count    18334.000000\n",
       "mean         0.589244\n",
       "std          0.277261\n",
       "min          0.000833\n",
       "25%          0.391389\n",
       "50%          0.546111\n",
       "75%          0.746389\n",
       "max          1.816667\n",
       "Name: trip_duration, dtype: float64"
      ]
     },
     "execution_count": 64,
     "metadata": {},
     "output_type": "execute_result"
    }
   ],
   "source": [
    "df.trip_duration.describe()"
   ]
  },
  {
   "cell_type": "code",
   "execution_count": 65,
   "metadata": {},
   "outputs": [
    {
     "data": {
      "image/png": "[encoded data removed]",
      "text/plain": [
       "<Figure size 432x288 with 1 Axes>"
      ]
     },
     "metadata": {},
     "output_type": "display_data"
    }
   ],
   "source": [
    "# Let's visualize the number of trips taken in slabs of 0-10, 20-30 ... hours respectively\n",
    "\n",
    "df.trip_duration.groupby(pd.cut(df.trip_duration, np.arange(0,1.9,0.2))).count().plot(kind = 'barh')\n",
    "plt.xlabel('Trip Counts')\n",
    "plt.ylabel('Trip Duration (h)')\n",
    "plt.xticks(rotation=50)\n",
    "plt.show()"
   ]
  },
  {
   "cell_type": "markdown",
   "metadata": {},
   "source": [
    "- For short trip durations, maybe the passenger changed their mind and cancelled the ride after some time.lets skip them.\n",
    "- We can observe that most of trip took 0.4 - 0.6 (h) to complete i.e. approx 24-36 min.\n"
   ]
  },
  {
   "cell_type": "markdown",
   "metadata": {},
   "source": [
    "<a id='hour_trip'></a>\n",
    "## Trips per Hour"
   ]
  },
  {
   "cell_type": "code",
   "execution_count": 66,
   "metadata": {},
   "outputs": [
    {
     "data": {
      "image/png": "[encoded data removed]",
      "text/plain": [
       "<Figure size 1440x360 with 2 Axes>"
      ]
     },
     "metadata": {},
     "output_type": "display_data"
    }
   ],
   "source": [
    "# Lets see the highest demand hour for airports\n",
    "\n",
    "figure,(ax9,ax10)=plt.subplots(ncols=2,figsize=(20,5))\n",
    "\n",
    "ax9.set_title('Pick up Hour in Airport')\n",
    "ax=sns.countplot(x='hour',data=from_airport,ax=ax9 )\n",
    "\n",
    "ax10.set_title('Drop off Hour in Airport')\n",
    "ax=sns.countplot(x='hour',data=to_airport,ax=ax10)"
   ]
  },
  {
   "cell_type": "markdown",
   "metadata": {},
   "source": [
    " We can see that between 3 PM and 22 PM seem to be the busiest hours for pick up from airports. There is a contrasting pattern observed in airports when airport is destination. "
   ]
  },
  {
   "cell_type": "markdown",
   "metadata": {},
   "source": [
    "<a id='timeday_trip'></a>\n",
    "## Trips per Time of Day"
   ]
  },
  {
   "cell_type": "code",
   "execution_count": 67,
   "metadata": {},
   "outputs": [
    {
     "data": {
      "image/png": "[encoded data removed]",
      "text/plain": [
       "<Figure size 1440x360 with 2 Axes>"
      ]
     },
     "metadata": {},
     "output_type": "display_data"
    }
   ],
   "source": [
    "# Lets see the highest demand time of day for airports\n",
    "\n",
    "figure,(ax9,ax10)=plt.subplots(ncols=2,figsize=(20,5))\n",
    "\n",
    "ax9.set_title('Pick up Time in Airport')\n",
    "ax=sns.countplot(x='time_of_day',data=from_airport,order=['Morning','Afternoon','Evening','Late night'],ax=ax9 )\n",
    "\n",
    "ax10.set_title('Drop off Time in Airport')\n",
    "ax=sns.countplot(x='time_of_day',data=to_airport,order=['Morning','Afternoon','Evening','Late night'],ax=ax10)"
   ]
  },
  {
   "cell_type": "markdown",
   "metadata": {},
   "source": [
    " it can be inferred that evenings experience the highest demand for airport pickups.for airport drop off it is Morning and Afternoon.This indicates distinct patterns in the timing of taxi demand based on whether the airport is the pickup or drop-off location."
   ]
  },
  {
   "cell_type": "markdown",
   "metadata": {},
   "source": [
    "<a id='day_trip'></a>\n",
    "## Trips per Day"
   ]
  },
  {
   "cell_type": "code",
   "execution_count": 68,
   "metadata": {},
   "outputs": [
    {
     "data": {
      "image/png": "[encoded data removed]",
      "text/plain": [
       "<Figure size 1440x360 with 2 Axes>"
      ]
     },
     "metadata": {},
     "output_type": "display_data"
    }
   ],
   "source": [
    "# Lets see the highest demand day for airports\n",
    "\n",
    "figure,(ax9,ax10)=plt.subplots(ncols=2,figsize=(20,5))\n",
    "\n",
    "ax9.set_title('Pick up Time in Airport')\n",
    "ax=sns.countplot(x='day',data=from_airport,order=['Monday','Tuesday','Wednesday','Thursday','Friday','Saturday','Sunday'],ax=ax9 )\n",
    "\n",
    "ax10.set_title('Drop off Time in Airport')\n",
    "ax=sns.countplot(x='day',data=to_airport,order=['Monday','Tuesday','Wednesday','Thursday','Friday','Saturday','Sunday'],ax=ax10)"
   ]
  },
  {
   "cell_type": "markdown",
   "metadata": {},
   "source": [
    "The analysis indicates that Monday and Sunday exhibit the highest levels of activity for airport pickups, while Friday appears to be the busiest day for airport drop-offs. This observation suggests distinct patterns in taxi demand based on the day of the week, with Mondays and Sundays being particularly busy for airport pickups and Fridays experiencing a higher demand for airport drop-offs."
   ]
  },
  {
   "cell_type": "markdown",
   "metadata": {},
   "source": [
    "<a id='month_trip'></a>\n",
    "## Trips per Month"
   ]
  },
  {
   "cell_type": "code",
   "execution_count": 69,
   "metadata": {},
   "outputs": [
    {
     "data": {
      "image/png": "[encoded data removed]",
      "text/plain": [
       "<Figure size 1440x360 with 2 Axes>"
      ]
     },
     "metadata": {},
     "output_type": "display_data"
    }
   ],
   "source": [
    "# Lets see the highest demand month for airports\n",
    "\n",
    "figure,(ax9,ax10)=plt.subplots(ncols=2,figsize=(20,5))\n",
    "\n",
    "ax9.set_title('Pick up Time in Airport')\n",
    "ax=sns.countplot(x='month',data=from_airport,ax=ax9 )\n",
    "\n",
    "ax10.set_title('Drop off Time in Airport')\n",
    "ax=sns.countplot(x='month',data=to_airport,ax=ax10)"
   ]
  },
  {
   "cell_type": "markdown",
   "metadata": {},
   "source": [
    "The usage of taxis increases between May and Aug, which is expected due to high travel demand in summer when people travel to NYC."
   ]
  },
  {
   "cell_type": "markdown",
   "metadata": {},
   "source": [
    "<a id='year_trip'></a>\n",
    "## Trips per Year"
   ]
  },
  {
   "cell_type": "code",
   "execution_count": 70,
   "metadata": {},
   "outputs": [
    {
     "data": {
      "image/png": "[encoded data removed]",
      "text/plain": [
       "<Figure size 1440x360 with 2 Axes>"
      ]
     },
     "metadata": {},
     "output_type": "display_data"
    }
   ],
   "source": [
    "# Lets see the highest demand year for airports\n",
    "\n",
    "figure,(ax9,ax10)=plt.subplots(ncols=2,figsize=(20,5))\n",
    "\n",
    "ax9.set_title('Pick up Time in Airport')\n",
    "ax=sns.countplot(x='year',data=from_airport,ax=ax9 )\n",
    "\n",
    "ax10.set_title('Drop off Time in Airport')\n",
    "ax=sns.countplot(x='year',data=to_airport,ax=ax10)"
   ]
  },
  {
   "cell_type": "markdown",
   "metadata": {},
   "source": [
    "The COVID-19 pandemic caused a significant decrease in the total volume of airport trips observed in both 2020 and 2021."
   ]
  },
  {
   "cell_type": "markdown",
   "metadata": {},
   "source": [
    "<a id='payment'></a>\n",
    "##  Payment Type "
   ]
  },
  {
   "cell_type": "code",
   "execution_count": 71,
   "metadata": {},
   "outputs": [
    {
     "data": {
      "image/png": "[encoded data removed]",
      "text/plain": [
       "<Figure size 1440x360 with 2 Axes>"
      ]
     },
     "metadata": {},
     "output_type": "display_data"
    }
   ],
   "source": [
    "# Lets plot the payment type \n",
    "\n",
    "figure,(ax9,ax10)=plt.subplots(ncols=2,figsize=(20,5))\n",
    "\n",
    "ax9.set_title('Payment Type vs Pick up in Airport')\n",
    "ax=sns.countplot(x='payment_type',data=from_airport,ax=ax9 )\n",
    "\n",
    "ax10.set_title('Payment Type vs Drop off in Airport')\n",
    "ax=sns.countplot(x='payment_type',data=to_airport,ax=ax10)"
   ]
  },
  {
   "cell_type": "markdown",
   "metadata": {},
   "source": [
    "\n",
    "Based on the data dictionary we may have 6 type of peyment:\n",
    "1. Credit card\n",
    "2. Cash\n",
    "3. No charge\n",
    "4. Dispute\n",
    "5. Unknown\n",
    "6. Voided trip\n",
    "\n",
    "We can see that passengers paid through the payment mode Credit card (1) more than any other payment mode."
   ]
  },
  {
   "cell_type": "markdown",
   "metadata": {},
   "source": [
    "<a id='amount'></a>\n",
    "## Total Amount "
   ]
  },
  {
   "cell_type": "code",
   "execution_count": 72,
   "metadata": {},
   "outputs": [
    {
     "data": {
      "text/plain": [
       "count    18334.000000\n",
       "mean        53.102354\n",
       "std         19.680577\n",
       "min          3.300000\n",
       "25%         40.850000\n",
       "50%         52.620000\n",
       "75%         66.600000\n",
       "max        310.700000\n",
       "Name: total_amount, dtype: float64"
      ]
     },
     "execution_count": 72,
     "metadata": {},
     "output_type": "execute_result"
    }
   ],
   "source": [
    "df.total_amount.describe()"
   ]
  },
  {
   "cell_type": "code",
   "execution_count": 73,
   "metadata": {},
   "outputs": [
    {
     "data": {
      "text/plain": [
       "(0, 120)"
      ]
     },
     "execution_count": 73,
     "metadata": {},
     "output_type": "execute_result"
    },
    {
     "data": {
      "image/png": "[encoded data removed]",
      "text/plain": [
       "<Figure size 1440x360 with 2 Axes>"
      ]
     },
     "metadata": {},
     "output_type": "display_data"
    }
   ],
   "source": [
    "# Lets plot the total amount charged to passengers\n",
    "\n",
    "figure,(ax9,ax10)=plt.subplots(ncols=2,figsize=(20,5))\n",
    "\n",
    "ax9.set_title('Payment Type vs Pick up in Airport')\n",
    "ax=sns.histplot(data=from_airport, x='total_amount',ax=ax9, bins=20)\n",
    "ax9.set_xlim(left=0, right=120)\n",
    "\n",
    "ax10.set_title('Payment Type vs Drop off in Airport')\n",
    "ax=sns.histplot(data=to_airport, x='total_amount',ax=ax10, bins=20)\n",
    "ax10.set_xlim(left=0, right=120)"
   ]
  },
  {
   "cell_type": "markdown",
   "metadata": {},
   "source": [
    "We can see people use more taxi when the total amount is almost in range of 40 - 50 $. "
   ]
  },
  {
   "cell_type": "markdown",
   "metadata": {},
   "source": [
    "<a id=corr></a>\n",
    "# Correlation Analysis"
   ]
  },
  {
   "cell_type": "code",
   "execution_count": 74,
   "metadata": {},
   "outputs": [],
   "source": [
    "# Lets generating the correlation matrix\n",
    "\n",
    "dff = df[{'vendor_id', 'passenger_count', 'trip_distance', 'rate_code_id','store_and_fwd_flag', 'payment_type','tip_amount','total_amount', 'day', 'hour', 'month','year', 'trip_duration', }]\n",
    "corr = dff.corr()"
   ]
  },
  {
   "cell_type": "markdown",
   "metadata": {},
   "source": [
    "<a id=heatmap></a>\n",
    "## Heatmap"
   ]
  },
  {
   "cell_type": "code",
   "execution_count": 75,
   "metadata": {
    "scrolled": true
   },
   "outputs": [
    {
     "data": {
      "image/png": "[encoded data removed]",
      "text/plain": [
       "<Figure size 1080x1080 with 2 Axes>"
      ]
     },
     "metadata": {},
     "output_type": "display_data"
    }
   ],
   "source": [
    "fig, ax = plt.subplots(figsize=(15,15))\n",
    "ax = sns.heatmap(corr, cmap='YlGnBu', annot=True, linewidths=0.5);"
   ]
  },
  {
   "cell_type": "markdown",
   "metadata": {},
   "source": [
    "most of the features shows there is no correlation."
   ]
  }
 ],
 "metadata": {
  "kernelspec": {
   "display_name": "Python 3",
   "language": "python",
   "name": "python3"
  },
  "language_info": {
   "codemirror_mode": {
    "name": "ipython",
    "version": 3
   },
   "file_extension": ".py",
   "mimetype": "text/x-python",
   "name": "python",
   "nbconvert_exporter": "python",
   "pygments_lexer": "ipython3",
   "version": "3.7.6"
  }
 },
 "nbformat": 4,
 "nbformat_minor": 4
}
